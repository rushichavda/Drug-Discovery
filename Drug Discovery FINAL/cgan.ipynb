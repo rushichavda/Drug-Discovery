{
  "cells": [
    {
      "cell_type": "code",
      "execution_count": 1,
      "metadata": {
        "id": "7qvCIKFSPYSJ"
      },
      "outputs": [],
      "source": [
        "%matplotlib inline\n",
        "import torch\n",
        "import torch.nn as nn\n",
        "import pandas as pd\n",
        "import numpy as np\n",
        "from torchvision import transforms\n",
        "from torch.utils.data import Dataset, DataLoader\n",
        "from PIL import Image\n",
        "from torch import autograd\n",
        "from torch.autograd import Variable\n",
        "from torchvision.utils import make_grid\n",
        "import matplotlib.pyplot as plt"
      ]
    },
    {
      "cell_type": "code",
      "execution_count": 64,
      "metadata": {
        "colab": {
          "base_uri": "https://localhost:8080/"
        },
        "id": "-jAp5yGKNoyX",
        "outputId": "b622b28d-7e5a-4787-d70a-2e500260418d"
      },
      "outputs": [
        {
          "data": {
            "text/html": [
              "<div>\n",
              "<style scoped>\n",
              "    .dataframe tbody tr th:only-of-type {\n",
              "        vertical-align: middle;\n",
              "    }\n",
              "\n",
              "    .dataframe tbody tr th {\n",
              "        vertical-align: top;\n",
              "    }\n",
              "\n",
              "    .dataframe thead th {\n",
              "        text-align: right;\n",
              "    }\n",
              "</style>\n",
              "<table border=\"1\" class=\"dataframe\">\n",
              "  <thead>\n",
              "    <tr style=\"text-align: right;\">\n",
              "      <th></th>\n",
              "      <th>smiles</th>\n",
              "      <th>logP</th>\n",
              "      <th>logP_class</th>\n",
              "      <th>image_path</th>\n",
              "    </tr>\n",
              "  </thead>\n",
              "  <tbody>\n",
              "    <tr>\n",
              "      <th>0</th>\n",
              "      <td>C[C@H](Cc1ccccc1F)C(=O)N[C@@H](CC(N)=O)C1CCCCC1</td>\n",
              "      <td>2.94480</td>\n",
              "      <td>3</td>\n",
              "      <td>E:\\IITB\\SEM8\\ME793\\Drug Discovery\\images\\image...</td>\n",
              "    </tr>\n",
              "    <tr>\n",
              "      <th>1</th>\n",
              "      <td>Cc1nn(CC(C)C)c2sc(C(=O)N[C@H](C)c3ccccc3)cc12</td>\n",
              "      <td>4.55322</td>\n",
              "      <td>5</td>\n",
              "      <td>E:\\IITB\\SEM8\\ME793\\Drug Discovery\\images\\image...</td>\n",
              "    </tr>\n",
              "    <tr>\n",
              "      <th>2</th>\n",
              "      <td>C[C@@H](NCc1c[nH+]cn1C1CC1)c1cccnc1</td>\n",
              "      <td>1.88290</td>\n",
              "      <td>2</td>\n",
              "      <td>E:\\IITB\\SEM8\\ME793\\Drug Discovery\\images\\image...</td>\n",
              "    </tr>\n",
              "    <tr>\n",
              "      <th>3</th>\n",
              "      <td>O=C(NCc1ccccc1)c1csc(-n2cccc2)n1</td>\n",
              "      <td>2.86380</td>\n",
              "      <td>3</td>\n",
              "      <td>E:\\IITB\\SEM8\\ME793\\Drug Discovery\\images\\image...</td>\n",
              "    </tr>\n",
              "    <tr>\n",
              "      <th>4</th>\n",
              "      <td>CC[C@@H](NC(=O)c1ccc(CN2C(=O)CCC2=O)cc1)c1ccc(...</td>\n",
              "      <td>3.97920</td>\n",
              "      <td>5</td>\n",
              "      <td>E:\\IITB\\SEM8\\ME793\\Drug Discovery\\images\\image...</td>\n",
              "    </tr>\n",
              "  </tbody>\n",
              "</table>\n",
              "</div>"
            ],
            "text/plain": [
              "                                              smiles     logP  logP_class  \\\n",
              "0    C[C@H](Cc1ccccc1F)C(=O)N[C@@H](CC(N)=O)C1CCCCC1  2.94480           3   \n",
              "1      Cc1nn(CC(C)C)c2sc(C(=O)N[C@H](C)c3ccccc3)cc12  4.55322           5   \n",
              "2                C[C@@H](NCc1c[nH+]cn1C1CC1)c1cccnc1  1.88290           2   \n",
              "3                   O=C(NCc1ccccc1)c1csc(-n2cccc2)n1  2.86380           3   \n",
              "4  CC[C@@H](NC(=O)c1ccc(CN2C(=O)CCC2=O)cc1)c1ccc(...  3.97920           5   \n",
              "\n",
              "                                          image_path  \n",
              "0  E:\\IITB\\SEM8\\ME793\\Drug Discovery\\images\\image...  \n",
              "1  E:\\IITB\\SEM8\\ME793\\Drug Discovery\\images\\image...  \n",
              "2  E:\\IITB\\SEM8\\ME793\\Drug Discovery\\images\\image...  \n",
              "3  E:\\IITB\\SEM8\\ME793\\Drug Discovery\\images\\image...  \n",
              "4  E:\\IITB\\SEM8\\ME793\\Drug Discovery\\images\\image...  "
            ]
          },
          "execution_count": 64,
          "metadata": {},
          "output_type": "execute_result"
        }
      ],
      "source": [
        "# import pandas as pd\n",
        "# import zipfile\n",
        "\n",
        "# # Specify the path to your zip file\n",
        "# zip_file_path = '/content/drive/MyDrive/ME793/odor.csv.zip'\n",
        "\n",
        "# # Extract the CSV file from the zip file\n",
        "# with zipfile.ZipFile(zip_file_path, 'r') as zip_ref:\n",
        "#     # Assuming there is only one CSV file in the zip, get its name\n",
        "#     csv_file_name = zip_ref.namelist()[0]\n",
        "\n",
        "#     # Extract the CSV file\n",
        "#     zip_ref.extract(csv_file_name)\n",
        "\n",
        "# # Read the extracted CSV file into a DataFrame\n",
        "# df = pd.read_csv(csv_file_name)\n",
        "df = pd.read_csv('E:\\IITB\\SEM8\\ME793\\Drug Discovery\\Drug-Discovery\\dfn.csv')\n",
        "# Now you have your DataFrame ready for use\n",
        "df.head() # Display the first few rows of the DataFrame\n"
      ]
    },
    {
      "cell_type": "code",
      "execution_count": 61,
      "metadata": {
        "colab": {
          "base_uri": "https://localhost:8080/"
        },
        "id": "BO9LC_mTN7Gt",
        "outputId": "cfd31e2b-fa34-495b-f538-c775a5559442"
      },
      "outputs": [
        {
          "data": {
            "text/html": [
              "<div>\n",
              "<style scoped>\n",
              "    .dataframe tbody tr th:only-of-type {\n",
              "        vertical-align: middle;\n",
              "    }\n",
              "\n",
              "    .dataframe tbody tr th {\n",
              "        vertical-align: top;\n",
              "    }\n",
              "\n",
              "    .dataframe thead th {\n",
              "        text-align: right;\n",
              "    }\n",
              "</style>\n",
              "<table border=\"1\" class=\"dataframe\">\n",
              "  <thead>\n",
              "    <tr style=\"text-align: right;\">\n",
              "      <th></th>\n",
              "      <th>smiles</th>\n",
              "      <th>logP</th>\n",
              "    </tr>\n",
              "  </thead>\n",
              "  <tbody>\n",
              "    <tr>\n",
              "      <th>0</th>\n",
              "      <td>C[C@H](Cc1ccccc1F)C(=O)N[C@@H](CC(N)=O)C1CCCCC1</td>\n",
              "      <td>2.94480</td>\n",
              "    </tr>\n",
              "    <tr>\n",
              "      <th>1</th>\n",
              "      <td>Cc1nn(CC(C)C)c2sc(C(=O)N[C@H](C)c3ccccc3)cc12</td>\n",
              "      <td>4.55322</td>\n",
              "    </tr>\n",
              "    <tr>\n",
              "      <th>2</th>\n",
              "      <td>C[C@@H](NCc1c[nH+]cn1C1CC1)c1cccnc1</td>\n",
              "      <td>1.88290</td>\n",
              "    </tr>\n",
              "    <tr>\n",
              "      <th>3</th>\n",
              "      <td>O=C(NCc1ccccc1)c1csc(-n2cccc2)n1</td>\n",
              "      <td>2.86380</td>\n",
              "    </tr>\n",
              "    <tr>\n",
              "      <th>4</th>\n",
              "      <td>CC[C@@H](NC(=O)c1ccc(CN2C(=O)CCC2=O)cc1)c1ccc(...</td>\n",
              "      <td>3.97920</td>\n",
              "    </tr>\n",
              "  </tbody>\n",
              "</table>\n",
              "</div>"
            ],
            "text/plain": [
              "                                              smiles     logP\n",
              "0    C[C@H](Cc1ccccc1F)C(=O)N[C@@H](CC(N)=O)C1CCCCC1  2.94480\n",
              "1      Cc1nn(CC(C)C)c2sc(C(=O)N[C@H](C)c3ccccc3)cc12  4.55322\n",
              "2                C[C@@H](NCc1c[nH+]cn1C1CC1)c1cccnc1  1.88290\n",
              "3                   O=C(NCc1ccccc1)c1csc(-n2cccc2)n1  2.86380\n",
              "4  CC[C@@H](NC(=O)c1ccc(CN2C(=O)CCC2=O)cc1)c1ccc(...  3.97920"
            ]
          },
          "execution_count": 61,
          "metadata": {},
          "output_type": "execute_result"
        }
      ],
      "source": [
        "df = df.iloc[:, :2]\n",
        "\n",
        "# Now you have the DataFrame with only the first two columns\n",
        "df.head()"
      ]
    },
    {
      "cell_type": "code",
      "execution_count": null,
      "metadata": {
        "colab": {
          "base_uri": "https://localhost:8080/"
        },
        "id": "9JHwRG8VOLIi",
        "outputId": "66752385-e907-4a77-cb33-e8b22b6c1bbc"
      },
      "outputs": [
        {
          "name": "stdout",
          "output_type": "stream",
          "text": [
            "fruity: 1902\n",
            "green: 1446\n",
            "sweet: 1429\n",
            "floral: 1100\n",
            "herbal: 756\n",
            "woody: 679\n",
            "fatty: 598\n",
            "fresh: 533\n",
            "waxy: 488\n",
            "spicy: 464\n",
            "sulfurous: 402\n",
            "oily: 388\n",
            "tropical: 386\n",
            "citrus: 379\n",
            "nutty: 366\n",
            "rose: 332\n",
            "earthy: 328\n",
            "apple: 308\n",
            "roasted: 305\n",
            "meaty: 299\n",
            "balsamic: 298\n",
            "ethereal: 287\n",
            "vegetable: 287\n",
            "caramellic: 234\n",
            "mint: 226\n",
            "winey: 221\n",
            "pineapple: 205\n",
            "musty: 200\n",
            "odorless: 200\n",
            "pungent: 198\n",
            "creamy: 190\n",
            "cheesy: 187\n",
            "burnt: 186\n",
            "phenolic: 180\n",
            "onion: 177\n",
            "powdery: 167\n",
            "dry: 166\n",
            "honey: 157\n",
            "berry: 156\n",
            "fermented: 147\n",
            "aldehydic: 144\n",
            "buttery: 139\n",
            "leafy: 139\n",
            "metallic: 134\n",
            "camphoreous: 132\n",
            "melon: 132\n",
            "pear: 130\n",
            "savory: 128\n",
            "banana: 128\n",
            "alliaceous: 126\n",
            "animal: 124\n",
            "dairy: 123\n",
            "garlic: 120\n",
            "cocoa: 118\n",
            "cognac: 112\n",
            "vanilla: 111\n",
            "coffee: 110\n",
            "alcoholic: 105\n",
            "sharp: 104\n",
            "jasmin: 103\n",
            "tobacco: 102\n",
            "amber: 101\n",
            "mushroom: 99\n",
            "musk: 98\n",
            "orange: 98\n",
            "clean: 97\n",
            "warm: 96\n",
            "peach: 95\n",
            "coconut: 91\n",
            "grape: 91\n",
            "rummy: 89\n",
            "almond: 87\n",
            "milky: 87\n",
            "cooked: 87\n",
            "anisic: 87\n",
            "ripe: 87\n",
            "cherry: 82\n",
            "cooling: 81\n",
            "lemon: 81\n",
            "fishy: 78\n",
            "pine: 78\n",
            "apricot: 78\n",
            "natural: 77\n",
            "aromatic: 76\n",
            "hay: 74\n",
            "grapefruit: 74\n",
            "sour: 72\n",
            "smoky: 72\n",
            "medicinal: 71\n",
            "lily: 71\n",
            "chocolate: 69\n",
            "lactonic: 67\n",
            "cinnamon: 66\n",
            "violet: 66\n",
            "bitter: 64\n",
            "grassy: 64\n",
            "geranium: 61\n",
            "plum: 61\n",
            "coumarinic: 60\n",
            "solvent: 59\n",
            "orris: 59\n",
            "hyacinth: 58\n",
            "tea: 56\n",
            "cortex: 56\n",
            "potato: 56\n",
            "muguet: 56\n",
            "radish: 55\n",
            "leathery: 54\n",
            "fruit skin: 52\n",
            "hazelnut: 52\n",
            "juicy: 51\n",
            "soapy: 50\n",
            "cedar: 49\n",
            "strawberry: 49\n",
            "terpenic: 49\n",
            "ketonic: 48\n",
            "cabbage: 46\n",
            "cucumber: 46\n",
            "weedy: 44\n",
            "lavender: 44\n",
            "beefy: 43\n",
            "raspberry: 43\n",
            "black currant: 43\n",
            "brandy: 42\n",
            "celery: 42\n",
            "ozone: 39\n",
            "sweaty: 38\n",
            "vetiver: 38\n",
            "tomato: 37\n",
            "popcorn: 36\n",
            "sandalwood: 36\n",
            "gassy: 35\n",
            "clove: 34\n",
            "hawthorn: 34\n",
            "malty: 33\n",
            "orangeflower: 33\n",
            "bergamot: 32\n",
            "chamomile: 31\n"
          ]
        }
      ],
      "source": [
        "from collections import Counter\n",
        "\n",
        "# Split the descriptors into individual components\n",
        "all_descriptors = df['descriptors'].str.split(';')\n",
        "\n",
        "# Flatten the list of lists into a single list\n",
        "flat_descriptors = [descriptor for sublist in all_descriptors for descriptor in sublist]\n",
        "\n",
        "# Count the occurrences of each unique descriptor\n",
        "descriptor_counts = Counter(flat_descriptors)\n",
        "\n",
        "# Sort the descriptors by count in descending order\n",
        "sorted_descriptors = sorted(descriptor_counts.items(), key=lambda x: x[1], reverse=True)\n",
        "\n",
        "# Print the sorted descriptors and their counts\n",
        "for descriptor, count in sorted_descriptors:\n",
        "    print(f\"{descriptor}: {count}\")\n"
      ]
    },
    {
      "cell_type": "code",
      "execution_count": null,
      "metadata": {
        "colab": {
          "base_uri": "https://localhost:8080/"
        },
        "id": "YcTaCIU1Okxg",
        "outputId": "f775300a-07f8-4e18-ba63-fa80ca1991b6"
      },
      "outputs": [
        {
          "name": "stdout",
          "output_type": "stream",
          "text": [
            "                                     nonStereoSMILES descriptors\n",
            "0                                      CCC(=O)C(=O)O       sweet\n",
            "1                                   O=C(O)CCc1ccccc1       sweet\n",
            "2                                      OCc1ccc(O)cc1      fruity\n",
            "3                                     O=Cc1ccc(O)cc1       sweet\n",
            "4                                               CC=O      fruity\n",
            "...                                              ...         ...\n",
            "3974                CCCCCCCCCCCCCC(=O)CC(=O)OCC(O)CO       fatty\n",
            "3975                   CC1=CCC2(CC1)C(C)CCC2C(C)(C)O      fruity\n",
            "3976  CCCCCCC=CCCCCCCCC(=O)OCC=C(C)CCC=C(C)CCC=C(C)C       green\n",
            "3977                         CCCCCC#CC(=O)OCc1ccccc1       green\n",
            "3978                      C=C(C=CO)CCC=C(C)CCC=C(C)C      floral\n",
            "\n",
            "[3979 rows x 2 columns]\n"
          ]
        },
        {
          "name": "stderr",
          "output_type": "stream",
          "text": [
            "<ipython-input-4-cf2ee068664f>:8: SettingWithCopyWarning: \n",
            "A value is trying to be set on a copy of a slice from a DataFrame\n",
            "\n",
            "See the caveats in the documentation: https://pandas.pydata.org/pandas-docs/stable/user_guide/indexing.html#returning-a-view-versus-a-copy\n",
            "  filtered_df.loc[filtered_df['descriptors'].str.contains(descriptor), 'descriptors'] = descriptor\n"
          ]
        }
      ],
      "source": [
        "top_10_descriptors = [descriptor[0] for descriptor in sorted_descriptors[:10]]\n",
        "\n",
        "# Filter the DataFrame to include only the rows with the top 5 descriptors\n",
        "filtered_df = df[df['descriptors'].apply(lambda x: any(descriptor in x for descriptor in top_10_descriptors))]\n",
        "\n",
        "# Replace the whole descriptor column with only the top descriptor for each row\n",
        "for descriptor in top_10_descriptors:\n",
        "    filtered_df.loc[filtered_df['descriptors'].str.contains(descriptor), 'descriptors'] = descriptor\n",
        "\n",
        "filtered_df.reset_index(drop=True, inplace=True)\n",
        "# Print the filtered DataFrame\n",
        "print(filtered_df)"
      ]
    },
    {
      "cell_type": "code",
      "execution_count": null,
      "metadata": {
        "colab": {
          "base_uri": "https://localhost:8080/"
        },
        "id": "Yd-RcvCIQX6G",
        "outputId": "12a5950b-54df-4565-d3dc-29cc54b3d9e4"
      },
      "outputs": [
        {
          "name": "stdout",
          "output_type": "stream",
          "text": [
            "Collecting rdkit\n",
            "  Downloading rdkit-2023.9.6-cp310-cp310-manylinux_2_17_x86_64.manylinux2014_x86_64.whl (34.9 MB)\n",
            "\u001b[2K     \u001b[90m━━━━━━━━━━━━━━━━━━━━━━━━━━━━━━━━━━━━━━━━\u001b[0m \u001b[32m34.9/34.9 MB\u001b[0m \u001b[31m21.1 MB/s\u001b[0m eta \u001b[36m0:00:00\u001b[0m\n",
            "\u001b[?25hRequirement already satisfied: numpy in /usr/local/lib/python3.10/dist-packages (from rdkit) (1.25.2)\n",
            "Requirement already satisfied: Pillow in /usr/local/lib/python3.10/dist-packages (from rdkit) (9.4.0)\n",
            "Installing collected packages: rdkit\n",
            "Successfully installed rdkit-2023.9.6\n"
          ]
        }
      ],
      "source": [
        "!pip install rdkit"
      ]
    },
    {
      "cell_type": "code",
      "execution_count": 7,
      "metadata": {
        "id": "re5_qnjsPEWZ"
      },
      "outputs": [],
      "source": [
        "import os\n",
        "from rdkit import Chem\n",
        "from rdkit.Chem import Draw\n",
        "\n",
        "# Destination path where the images will be saved\n",
        "destination_path = \"/content/drive/MyDrive/ME793/Data\"\n",
        "\n",
        "# Create folders for each class (descriptor) if they don't exist\n",
        "for descriptor in top_10_descriptors:\n",
        "    class_folder = os.path.join(destination_path, descriptor)\n",
        "    os.makedirs(class_folder, exist_ok=True)\n",
        "\n",
        "# Function to convert SMILES to image and save in the respective class folder\n",
        "def save_image(smiles, descriptor):\n",
        "    mol = Chem.MolFromSmiles(smiles)\n",
        "    if mol is not None:\n",
        "        image_path = os.path.join(destination_path, descriptor, f\"{smiles}.png\")\n",
        "        Draw.MolToFile(mol, image_path)\n",
        "\n",
        "# Iterate over each row in the filtered DataFrame and save the images\n",
        "for index, row in filtered_df.iterrows():\n",
        "    smiles = row['nonStereoSMILES']\n",
        "    descriptor = row['descriptors']\n",
        "    save_image(smiles, descriptor)\n"
      ]
    },
    {
      "cell_type": "code",
      "execution_count": 8,
      "metadata": {
        "colab": {
          "base_uri": "https://localhost:8080/"
        },
        "id": "ogQMcbMIQmtr",
        "outputId": "236842ab-77ad-480e-c5a8-54d751e1f5b9"
      },
      "outputs": [
        {
          "name": "stderr",
          "output_type": "stream",
          "text": [
            "<ipython-input-8-b744e91462da>:11: SettingWithCopyWarning: \n",
            "A value is trying to be set on a copy of a slice from a DataFrame.\n",
            "Try using .loc[row_indexer,col_indexer] = value instead\n",
            "\n",
            "See the caveats in the documentation: https://pandas.pydata.org/pandas-docs/stable/user_guide/indexing.html#returning-a-view-versus-a-copy\n",
            "  filtered_df['image_path'] = filtered_df.apply(lambda row: generate_file_path(row['nonStereoSMILES'], row['descriptors']), axis=1)\n"
          ]
        }
      ],
      "source": [
        "import os\n",
        "\n",
        "# Define the path to the folder where the images are saved\n",
        "image_folder = \"/content/drive/MyDrive/ME793/Data\"\n",
        "\n",
        "# Function to generate file paths\n",
        "def generate_file_path(smiles, descriptor):\n",
        "    return os.path.join(image_folder, descriptor, f\"{smiles}.png\")\n",
        "\n",
        "# Create a new column in the DataFrame containing the file paths\n",
        "filtered_df['image_path'] = filtered_df.apply(lambda row: generate_file_path(row['nonStereoSMILES'], row['descriptors']), axis=1)\n"
      ]
    },
    {
      "cell_type": "code",
      "execution_count": 65,
      "metadata": {
        "colab": {
          "base_uri": "https://localhost:8080/",
          "height": 424
        },
        "id": "G70OtA0IRgD6",
        "outputId": "d88068ad-150c-46da-b04d-bc3a32aced2f"
      },
      "outputs": [],
      "source": [
        "df.drop(['logP'], axis=1, inplace=True)\n",
        "df['logP_class'] = df[\"logP_class\"] - 1"
      ]
    },
    {
      "cell_type": "code",
      "execution_count": 67,
      "metadata": {},
      "outputs": [
        {
          "data": {
            "text/html": [
              "<div>\n",
              "<style scoped>\n",
              "    .dataframe tbody tr th:only-of-type {\n",
              "        vertical-align: middle;\n",
              "    }\n",
              "\n",
              "    .dataframe tbody tr th {\n",
              "        vertical-align: top;\n",
              "    }\n",
              "\n",
              "    .dataframe thead th {\n",
              "        text-align: right;\n",
              "    }\n",
              "</style>\n",
              "<table border=\"1\" class=\"dataframe\">\n",
              "  <thead>\n",
              "    <tr style=\"text-align: right;\">\n",
              "      <th></th>\n",
              "      <th>logP_class</th>\n",
              "    </tr>\n",
              "  </thead>\n",
              "  <tbody>\n",
              "    <tr>\n",
              "      <th>count</th>\n",
              "      <td>10000.000000</td>\n",
              "    </tr>\n",
              "    <tr>\n",
              "      <th>mean</th>\n",
              "      <td>1.993600</td>\n",
              "    </tr>\n",
              "    <tr>\n",
              "      <th>std</th>\n",
              "      <td>1.409382</td>\n",
              "    </tr>\n",
              "    <tr>\n",
              "      <th>min</th>\n",
              "      <td>0.000000</td>\n",
              "    </tr>\n",
              "    <tr>\n",
              "      <th>25%</th>\n",
              "      <td>1.000000</td>\n",
              "    </tr>\n",
              "    <tr>\n",
              "      <th>50%</th>\n",
              "      <td>2.000000</td>\n",
              "    </tr>\n",
              "    <tr>\n",
              "      <th>75%</th>\n",
              "      <td>3.000000</td>\n",
              "    </tr>\n",
              "    <tr>\n",
              "      <th>max</th>\n",
              "      <td>4.000000</td>\n",
              "    </tr>\n",
              "  </tbody>\n",
              "</table>\n",
              "</div>"
            ],
            "text/plain": [
              "         logP_class\n",
              "count  10000.000000\n",
              "mean       1.993600\n",
              "std        1.409382\n",
              "min        0.000000\n",
              "25%        1.000000\n",
              "50%        2.000000\n",
              "75%        3.000000\n",
              "max        4.000000"
            ]
          },
          "execution_count": 67,
          "metadata": {},
          "output_type": "execute_result"
        }
      ],
      "source": [
        "df.describe()"
      ]
    },
    {
      "cell_type": "code",
      "execution_count": 68,
      "metadata": {},
      "outputs": [],
      "source": [
        "# change the name of column\n",
        "df.rename(columns = {'smiles':'nonStereoSMILES', 'logP_class':\"class_number\"}, inplace = True)"
      ]
    },
    {
      "cell_type": "code",
      "execution_count": null,
      "metadata": {},
      "outputs": [],
      "source": []
    },
    {
      "cell_type": "code",
      "execution_count": 69,
      "metadata": {},
      "outputs": [
        {
          "data": {
            "text/html": [
              "<div>\n",
              "<style scoped>\n",
              "    .dataframe tbody tr th:only-of-type {\n",
              "        vertical-align: middle;\n",
              "    }\n",
              "\n",
              "    .dataframe tbody tr th {\n",
              "        vertical-align: top;\n",
              "    }\n",
              "\n",
              "    .dataframe thead th {\n",
              "        text-align: right;\n",
              "    }\n",
              "</style>\n",
              "<table border=\"1\" class=\"dataframe\">\n",
              "  <thead>\n",
              "    <tr style=\"text-align: right;\">\n",
              "      <th></th>\n",
              "      <th>nonStereoSMILES</th>\n",
              "      <th>class_number</th>\n",
              "      <th>image_path</th>\n",
              "    </tr>\n",
              "  </thead>\n",
              "  <tbody>\n",
              "    <tr>\n",
              "      <th>0</th>\n",
              "      <td>C[C@H](Cc1ccccc1F)C(=O)N[C@@H](CC(N)=O)C1CCCCC1</td>\n",
              "      <td>2</td>\n",
              "      <td>E:\\IITB\\SEM8\\ME793\\Drug Discovery\\images\\image...</td>\n",
              "    </tr>\n",
              "    <tr>\n",
              "      <th>1</th>\n",
              "      <td>Cc1nn(CC(C)C)c2sc(C(=O)N[C@H](C)c3ccccc3)cc12</td>\n",
              "      <td>4</td>\n",
              "      <td>E:\\IITB\\SEM8\\ME793\\Drug Discovery\\images\\image...</td>\n",
              "    </tr>\n",
              "    <tr>\n",
              "      <th>2</th>\n",
              "      <td>C[C@@H](NCc1c[nH+]cn1C1CC1)c1cccnc1</td>\n",
              "      <td>1</td>\n",
              "      <td>E:\\IITB\\SEM8\\ME793\\Drug Discovery\\images\\image...</td>\n",
              "    </tr>\n",
              "    <tr>\n",
              "      <th>3</th>\n",
              "      <td>O=C(NCc1ccccc1)c1csc(-n2cccc2)n1</td>\n",
              "      <td>2</td>\n",
              "      <td>E:\\IITB\\SEM8\\ME793\\Drug Discovery\\images\\image...</td>\n",
              "    </tr>\n",
              "    <tr>\n",
              "      <th>4</th>\n",
              "      <td>CC[C@@H](NC(=O)c1ccc(CN2C(=O)CCC2=O)cc1)c1ccc(...</td>\n",
              "      <td>4</td>\n",
              "      <td>E:\\IITB\\SEM8\\ME793\\Drug Discovery\\images\\image...</td>\n",
              "    </tr>\n",
              "    <tr>\n",
              "      <th>...</th>\n",
              "      <td>...</td>\n",
              "      <td>...</td>\n",
              "      <td>...</td>\n",
              "    </tr>\n",
              "    <tr>\n",
              "      <th>9995</th>\n",
              "      <td>COc1ccc(-c2c(NC(=O)c3cccs3)n(-c3ccc(C)cc3)nc(C...</td>\n",
              "      <td>4</td>\n",
              "      <td>E:\\IITB\\SEM8\\ME793\\Drug Discovery\\images\\image...</td>\n",
              "    </tr>\n",
              "    <tr>\n",
              "      <th>9996</th>\n",
              "      <td>CCc1nnc(C[NH+](C)C[C@@H]2CCC[NH+]3CCCC[C@@H]23)o1</td>\n",
              "      <td>0</td>\n",
              "      <td>E:\\IITB\\SEM8\\ME793\\Drug Discovery\\images\\image...</td>\n",
              "    </tr>\n",
              "    <tr>\n",
              "      <th>9997</th>\n",
              "      <td>CCC(CC)(CNC(=O)[C@H]1CSC(=O)N1)c1ccccc1</td>\n",
              "      <td>2</td>\n",
              "      <td>E:\\IITB\\SEM8\\ME793\\Drug Discovery\\images\\image...</td>\n",
              "    </tr>\n",
              "    <tr>\n",
              "      <th>9998</th>\n",
              "      <td>CCC[NH+]1CCC(CNC(=O)Cc2ccc(C)c(O)c2)CC1</td>\n",
              "      <td>0</td>\n",
              "      <td>E:\\IITB\\SEM8\\ME793\\Drug Discovery\\images\\image...</td>\n",
              "    </tr>\n",
              "    <tr>\n",
              "      <th>9999</th>\n",
              "      <td>COc1ccc(F)cc1[C@@H](Cl)[C@@H]1CCO[C@@H]1C</td>\n",
              "      <td>3</td>\n",
              "      <td>E:\\IITB\\SEM8\\ME793\\Drug Discovery\\images\\image...</td>\n",
              "    </tr>\n",
              "  </tbody>\n",
              "</table>\n",
              "<p>10000 rows × 3 columns</p>\n",
              "</div>"
            ],
            "text/plain": [
              "                                        nonStereoSMILES  class_number  \\\n",
              "0       C[C@H](Cc1ccccc1F)C(=O)N[C@@H](CC(N)=O)C1CCCCC1             2   \n",
              "1         Cc1nn(CC(C)C)c2sc(C(=O)N[C@H](C)c3ccccc3)cc12             4   \n",
              "2                   C[C@@H](NCc1c[nH+]cn1C1CC1)c1cccnc1             1   \n",
              "3                      O=C(NCc1ccccc1)c1csc(-n2cccc2)n1             2   \n",
              "4     CC[C@@H](NC(=O)c1ccc(CN2C(=O)CCC2=O)cc1)c1ccc(...             4   \n",
              "...                                                 ...           ...   \n",
              "9995  COc1ccc(-c2c(NC(=O)c3cccs3)n(-c3ccc(C)cc3)nc(C...             4   \n",
              "9996  CCc1nnc(C[NH+](C)C[C@@H]2CCC[NH+]3CCCC[C@@H]23)o1             0   \n",
              "9997            CCC(CC)(CNC(=O)[C@H]1CSC(=O)N1)c1ccccc1             2   \n",
              "9998            CCC[NH+]1CCC(CNC(=O)Cc2ccc(C)c(O)c2)CC1             0   \n",
              "9999          COc1ccc(F)cc1[C@@H](Cl)[C@@H]1CCO[C@@H]1C             3   \n",
              "\n",
              "                                             image_path  \n",
              "0     E:\\IITB\\SEM8\\ME793\\Drug Discovery\\images\\image...  \n",
              "1     E:\\IITB\\SEM8\\ME793\\Drug Discovery\\images\\image...  \n",
              "2     E:\\IITB\\SEM8\\ME793\\Drug Discovery\\images\\image...  \n",
              "3     E:\\IITB\\SEM8\\ME793\\Drug Discovery\\images\\image...  \n",
              "4     E:\\IITB\\SEM8\\ME793\\Drug Discovery\\images\\image...  \n",
              "...                                                 ...  \n",
              "9995  E:\\IITB\\SEM8\\ME793\\Drug Discovery\\images\\image...  \n",
              "9996  E:\\IITB\\SEM8\\ME793\\Drug Discovery\\images\\image...  \n",
              "9997  E:\\IITB\\SEM8\\ME793\\Drug Discovery\\images\\image...  \n",
              "9998  E:\\IITB\\SEM8\\ME793\\Drug Discovery\\images\\image...  \n",
              "9999  E:\\IITB\\SEM8\\ME793\\Drug Discovery\\images\\image...  \n",
              "\n",
              "[10000 rows x 3 columns]"
            ]
          },
          "execution_count": 69,
          "metadata": {},
          "output_type": "execute_result"
        }
      ],
      "source": [
        "df"
      ]
    },
    {
      "cell_type": "code",
      "execution_count": 70,
      "metadata": {
        "colab": {
          "base_uri": "https://localhost:8080/"
        },
        "id": "N7fif66CfZNi",
        "outputId": "121fb21c-7a6f-4532-ff06-ea136a425d1d"
      },
      "outputs": [],
      "source": [
        "filtered_df = df.copy()"
      ]
    },
    {
      "cell_type": "code",
      "execution_count": 73,
      "metadata": {
        "id": "6fgaXyOVRkOo"
      },
      "outputs": [],
      "source": [
        "from torch.utils.data import Dataset\n",
        "from PIL import Image\n",
        "\n",
        "class CustomDataset(Dataset):\n",
        "    def __init__(self, dataframe, img_size, transform=None):\n",
        "        self.dataframe = dataframe\n",
        "        self.transform = transform\n",
        "        self.images = dataframe['image_path'].tolist()\n",
        "        self.labels = dataframe['class_number'].tolist()\n",
        "\n",
        "    def __len__(self):\n",
        "        return len(self.dataframe)\n",
        "\n",
        "    def __getitem__(self, idx):\n",
        "        image_path = self.images[idx]\n",
        "        label = self.labels[idx]\n",
        "\n",
        "        # Load image\n",
        "        image = Image.open(image_path)\n",
        "\n",
        "        # Apply transformations if provided\n",
        "        if self.transform:\n",
        "            image = self.transform(image)\n",
        "\n",
        "        return image, label\n"
      ]
    },
    {
      "cell_type": "code",
      "execution_count": 74,
      "metadata": {
        "id": "5pTma75JShmE"
      },
      "outputs": [],
      "source": [
        "img_size = 300 # Image size\n",
        "batch_size = 64  # Batch size\n",
        "\n",
        "# Model\n",
        "z_size = 100\n",
        "generator_layer_size = [256, 512, 1024]\n",
        "discriminator_layer_size = [1024, 512, 256]\n",
        "\n",
        "# Training\n",
        "epochs = 30  # Train epochs\n",
        "learning_rate = 1e-4"
      ]
    },
    {
      "cell_type": "code",
      "execution_count": 75,
      "metadata": {
        "id": "_M5pJHoZU8RC"
      },
      "outputs": [],
      "source": [
        "dataset = CustomDataset(filtered_df, img_size)"
      ]
    },
    {
      "cell_type": "code",
      "execution_count": 76,
      "metadata": {},
      "outputs": [
        {
          "data": {
            "text/html": [
              "<div>\n",
              "<style scoped>\n",
              "    .dataframe tbody tr th:only-of-type {\n",
              "        vertical-align: middle;\n",
              "    }\n",
              "\n",
              "    .dataframe tbody tr th {\n",
              "        vertical-align: top;\n",
              "    }\n",
              "\n",
              "    .dataframe thead th {\n",
              "        text-align: right;\n",
              "    }\n",
              "</style>\n",
              "<table border=\"1\" class=\"dataframe\">\n",
              "  <thead>\n",
              "    <tr style=\"text-align: right;\">\n",
              "      <th></th>\n",
              "      <th>nonStereoSMILES</th>\n",
              "      <th>class_number</th>\n",
              "      <th>image_path</th>\n",
              "    </tr>\n",
              "  </thead>\n",
              "  <tbody>\n",
              "    <tr>\n",
              "      <th>0</th>\n",
              "      <td>C[C@H](Cc1ccccc1F)C(=O)N[C@@H](CC(N)=O)C1CCCCC1</td>\n",
              "      <td>2</td>\n",
              "      <td>E:\\IITB\\SEM8\\ME793\\Drug Discovery\\images\\image...</td>\n",
              "    </tr>\n",
              "    <tr>\n",
              "      <th>1</th>\n",
              "      <td>Cc1nn(CC(C)C)c2sc(C(=O)N[C@H](C)c3ccccc3)cc12</td>\n",
              "      <td>4</td>\n",
              "      <td>E:\\IITB\\SEM8\\ME793\\Drug Discovery\\images\\image...</td>\n",
              "    </tr>\n",
              "    <tr>\n",
              "      <th>2</th>\n",
              "      <td>C[C@@H](NCc1c[nH+]cn1C1CC1)c1cccnc1</td>\n",
              "      <td>1</td>\n",
              "      <td>E:\\IITB\\SEM8\\ME793\\Drug Discovery\\images\\image...</td>\n",
              "    </tr>\n",
              "    <tr>\n",
              "      <th>3</th>\n",
              "      <td>O=C(NCc1ccccc1)c1csc(-n2cccc2)n1</td>\n",
              "      <td>2</td>\n",
              "      <td>E:\\IITB\\SEM8\\ME793\\Drug Discovery\\images\\image...</td>\n",
              "    </tr>\n",
              "    <tr>\n",
              "      <th>4</th>\n",
              "      <td>CC[C@@H](NC(=O)c1ccc(CN2C(=O)CCC2=O)cc1)c1ccc(...</td>\n",
              "      <td>4</td>\n",
              "      <td>E:\\IITB\\SEM8\\ME793\\Drug Discovery\\images\\image...</td>\n",
              "    </tr>\n",
              "    <tr>\n",
              "      <th>...</th>\n",
              "      <td>...</td>\n",
              "      <td>...</td>\n",
              "      <td>...</td>\n",
              "    </tr>\n",
              "    <tr>\n",
              "      <th>9995</th>\n",
              "      <td>COc1ccc(-c2c(NC(=O)c3cccs3)n(-c3ccc(C)cc3)nc(C...</td>\n",
              "      <td>4</td>\n",
              "      <td>E:\\IITB\\SEM8\\ME793\\Drug Discovery\\images\\image...</td>\n",
              "    </tr>\n",
              "    <tr>\n",
              "      <th>9996</th>\n",
              "      <td>CCc1nnc(C[NH+](C)C[C@@H]2CCC[NH+]3CCCC[C@@H]23)o1</td>\n",
              "      <td>0</td>\n",
              "      <td>E:\\IITB\\SEM8\\ME793\\Drug Discovery\\images\\image...</td>\n",
              "    </tr>\n",
              "    <tr>\n",
              "      <th>9997</th>\n",
              "      <td>CCC(CC)(CNC(=O)[C@H]1CSC(=O)N1)c1ccccc1</td>\n",
              "      <td>2</td>\n",
              "      <td>E:\\IITB\\SEM8\\ME793\\Drug Discovery\\images\\image...</td>\n",
              "    </tr>\n",
              "    <tr>\n",
              "      <th>9998</th>\n",
              "      <td>CCC[NH+]1CCC(CNC(=O)Cc2ccc(C)c(O)c2)CC1</td>\n",
              "      <td>0</td>\n",
              "      <td>E:\\IITB\\SEM8\\ME793\\Drug Discovery\\images\\image...</td>\n",
              "    </tr>\n",
              "    <tr>\n",
              "      <th>9999</th>\n",
              "      <td>COc1ccc(F)cc1[C@@H](Cl)[C@@H]1CCO[C@@H]1C</td>\n",
              "      <td>3</td>\n",
              "      <td>E:\\IITB\\SEM8\\ME793\\Drug Discovery\\images\\image...</td>\n",
              "    </tr>\n",
              "  </tbody>\n",
              "</table>\n",
              "<p>10000 rows × 3 columns</p>\n",
              "</div>"
            ],
            "text/plain": [
              "                                        nonStereoSMILES  class_number  \\\n",
              "0       C[C@H](Cc1ccccc1F)C(=O)N[C@@H](CC(N)=O)C1CCCCC1             2   \n",
              "1         Cc1nn(CC(C)C)c2sc(C(=O)N[C@H](C)c3ccccc3)cc12             4   \n",
              "2                   C[C@@H](NCc1c[nH+]cn1C1CC1)c1cccnc1             1   \n",
              "3                      O=C(NCc1ccccc1)c1csc(-n2cccc2)n1             2   \n",
              "4     CC[C@@H](NC(=O)c1ccc(CN2C(=O)CCC2=O)cc1)c1ccc(...             4   \n",
              "...                                                 ...           ...   \n",
              "9995  COc1ccc(-c2c(NC(=O)c3cccs3)n(-c3ccc(C)cc3)nc(C...             4   \n",
              "9996  CCc1nnc(C[NH+](C)C[C@@H]2CCC[NH+]3CCCC[C@@H]23)o1             0   \n",
              "9997            CCC(CC)(CNC(=O)[C@H]1CSC(=O)N1)c1ccccc1             2   \n",
              "9998            CCC[NH+]1CCC(CNC(=O)Cc2ccc(C)c(O)c2)CC1             0   \n",
              "9999          COc1ccc(F)cc1[C@@H](Cl)[C@@H]1CCO[C@@H]1C             3   \n",
              "\n",
              "                                             image_path  \n",
              "0     E:\\IITB\\SEM8\\ME793\\Drug Discovery\\images\\image...  \n",
              "1     E:\\IITB\\SEM8\\ME793\\Drug Discovery\\images\\image...  \n",
              "2     E:\\IITB\\SEM8\\ME793\\Drug Discovery\\images\\image...  \n",
              "3     E:\\IITB\\SEM8\\ME793\\Drug Discovery\\images\\image...  \n",
              "4     E:\\IITB\\SEM8\\ME793\\Drug Discovery\\images\\image...  \n",
              "...                                                 ...  \n",
              "9995  E:\\IITB\\SEM8\\ME793\\Drug Discovery\\images\\image...  \n",
              "9996  E:\\IITB\\SEM8\\ME793\\Drug Discovery\\images\\image...  \n",
              "9997  E:\\IITB\\SEM8\\ME793\\Drug Discovery\\images\\image...  \n",
              "9998  E:\\IITB\\SEM8\\ME793\\Drug Discovery\\images\\image...  \n",
              "9999  E:\\IITB\\SEM8\\ME793\\Drug Discovery\\images\\image...  \n",
              "\n",
              "[10000 rows x 3 columns]"
            ]
          },
          "execution_count": 76,
          "metadata": {},
          "output_type": "execute_result"
        }
      ],
      "source": [
        "filtered_df"
      ]
    },
    {
      "cell_type": "code",
      "execution_count": 77,
      "metadata": {
        "colab": {
          "base_uri": "https://localhost:8080/",
          "height": 317
        },
        "id": "_SEczfSQfggA",
        "outputId": "f9857f3a-50d9-4f94-ff0b-651daca55098"
      },
      "outputs": [
        {
          "data": {
            "image/png": "[encoded data removed]",
            "text/plain": [
              "<PIL.PngImagePlugin.PngImageFile image mode=RGB size=300x300>"
            ]
          },
          "execution_count": 77,
          "metadata": {},
          "output_type": "execute_result"
        }
      ],
      "source": [
        "dataset[100][0]"
      ]
    },
    {
      "cell_type": "code",
      "execution_count": 78,
      "metadata": {
        "id": "niOthx5jWa48"
      },
      "outputs": [],
      "source": [
        "# Define the new class list\n",
        "class_list = [\"very low\", \"low\", \"medium\", \"high\", \"very high\"]\n",
        "\n",
        "# Get the number of classes\n",
        "class_num = len(class_list)"
      ]
    },
    {
      "cell_type": "code",
      "execution_count": 79,
      "metadata": {
        "colab": {
          "base_uri": "https://localhost:8080/",
          "height": 36
        },
        "id": "iPl9584Nf4Q0",
        "outputId": "8ce2d05e-121d-4375-e0a2-6210be115a15"
      },
      "outputs": [
        {
          "data": {
            "text/plain": [
              "'high'"
            ]
          },
          "execution_count": 79,
          "metadata": {},
          "output_type": "execute_result"
        }
      ],
      "source": [
        "class_list[dataset[3000][1]]"
      ]
    },
    {
      "cell_type": "code",
      "execution_count": 80,
      "metadata": {
        "colab": {
          "base_uri": "https://localhost:8080/"
        },
        "id": "FkBDKS-RScHi",
        "outputId": "c6e04371-3e56-47e0-f6d5-5ca7793d524c"
      },
      "outputs": [
        {
          "name": "stdout",
          "output_type": "stream",
          "text": [
            "torch version: 2.0.0+cpu\n",
            "device: cpu\n"
          ]
        }
      ],
      "source": [
        "device = 'cuda' if torch.cuda.is_available() else 'cpu'\n",
        "\n",
        "print('torch version:',torch.__version__)\n",
        "print('device:', device)"
      ]
    },
    {
      "cell_type": "code",
      "execution_count": 81,
      "metadata": {
        "id": "o8WGiClhf1vj"
      },
      "outputs": [],
      "source": [
        "transform = transforms.Compose([\n",
        "        transforms.ToTensor(),\n",
        "        transforms.Normalize(mean=(0.5,), std=(0.5,))\n",
        "])"
      ]
    },
    {
      "cell_type": "code",
      "execution_count": 82,
      "metadata": {
        "id": "5CbbmXUOgL9o"
      },
      "outputs": [],
      "source": [
        "data_loader = torch.utils.data.DataLoader(dataset, batch_size=batch_size, shuffle=True)"
      ]
    },
    {
      "cell_type": "code",
      "execution_count": 83,
      "metadata": {
        "id": "W-WmJiUhhxRi"
      },
      "outputs": [],
      "source": [
        "import torch\n",
        "from torchvision import transforms\n",
        "\n",
        "# Define the transformation to convert PIL images to tensors\n",
        "transform = transforms.Compose([\n",
        "    transforms.ToTensor()\n",
        "])\n",
        "\n",
        "from torch.utils.data import Dataset\n",
        "from torchvision.transforms import ToTensor\n",
        "from PIL import Image, UnidentifiedImageError\n",
        "\n",
        "class CustomDataset(Dataset):\n",
        "    def __init__(self, dataframe, transform=None):\n",
        "        self.dataframe = dataframe\n",
        "        self.transform = transform if transform else ToTensor()\n",
        "\n",
        "        # Initialize a list to store the paths of images causing errors\n",
        "        self.error_image_paths = []\n",
        "\n",
        "        # Check if each image file is valid and collect the error image paths\n",
        "        for idx, row in self.dataframe.iterrows():\n",
        "            try:\n",
        "                image = Image.open(row['image_path']).convert('RGB')  # Open and convert to RGB\n",
        "                image.verify()  # Verify image integrity\n",
        "            except (UnidentifiedImageError, OSError):\n",
        "                # If an error occurs, add the image path to the list of error image paths\n",
        "                self.error_image_paths.append(row['image_path'])\n",
        "\n",
        "    def __len__(self):\n",
        "        return len(self.dataframe) - len(self.error_image_paths)\n",
        "\n",
        "    def __getitem__(self, idx):\n",
        "        # Adjust the index to handle error image paths\n",
        "        if idx < len(self.error_image_paths):\n",
        "            idx += len(self.error_image_paths)\n",
        "        row = self.dataframe.iloc[idx]\n",
        "\n",
        "        # Load image from file path\n",
        "        try:\n",
        "            image = Image.open(row['image_path']).convert('L')  # gray scale\n",
        "            image.verify()  # Verify image integrity\n",
        "        except (UnidentifiedImageError, OSError):\n",
        "            # If an error occurs, skip this image and return the next valid one\n",
        "            return self.__getitem__(idx + 1)\n",
        "\n",
        "        # Apply transformations\n",
        "        if self.transform:\n",
        "            image = self.transform(image)\n",
        "\n",
        "        return image, row['class_number']\n",
        "\n",
        "\n",
        "# Create an instance of the custom dataset\n",
        "custom_dataset = CustomDataset(filtered_df, transform=transform)\n",
        "\n",
        "# Create a data loader from the custom dataset\n",
        "data_loader = torch.utils.data.DataLoader(custom_dataset, batch_size=batch_size, shuffle=True)\n"
      ]
    },
    {
      "cell_type": "code",
      "execution_count": 84,
      "metadata": {
        "colab": {
          "base_uri": "https://localhost:8080/",
          "height": 386
        },
        "id": "GnX-Y6qtgXEH",
        "outputId": "0c8b75a6-5bcf-4c5e-ccb8-f95f2d801c1e"
      },
      "outputs": [
        {
          "data": {
            "image/png": "[encoded data removed]",
            "text/plain": [
              "<Figure size 1800x1000 with 1 Axes>"
            ]
          },
          "metadata": {},
          "output_type": "display_data"
        }
      ],
      "source": [
        "for images, labels in data_loader:\n",
        "    fig, ax = plt.subplots(figsize=(18,10))\n",
        "    ax.set_xticks([])\n",
        "    ax.set_yticks([])\n",
        "    ax.imshow(make_grid(images, nrow=16).permute(1,2,0))\n",
        "    break"
      ]
    },
    {
      "cell_type": "code",
      "execution_count": 85,
      "metadata": {
        "id": "JTKLR47kglQy"
      },
      "outputs": [],
      "source": [
        "class Generator(nn.Module):\n",
        "    def __init__(self, generator_layer_size, z_size, img_size, class_num):\n",
        "        super().__init__()\n",
        "\n",
        "        self.z_size = z_size\n",
        "        self.img_size = img_size\n",
        "\n",
        "        self.label_emb = nn.Embedding(class_num, class_num)\n",
        "\n",
        "        self.model = nn.Sequential(\n",
        "            nn.Linear(self.z_size + class_num, generator_layer_size[0]),\n",
        "            nn.LeakyReLU(0.2, inplace=True),\n",
        "            nn.Linear(generator_layer_size[0], generator_layer_size[1]),\n",
        "            nn.LeakyReLU(0.2, inplace=True),\n",
        "            nn.Linear(generator_layer_size[1], generator_layer_size[2]),\n",
        "            nn.LeakyReLU(0.2, inplace=True),\n",
        "            nn.Linear(generator_layer_size[2], self.img_size * self.img_size),\n",
        "            nn.Tanh()\n",
        "        )\n",
        "\n",
        "    def forward(self, z, labels):\n",
        "\n",
        "        # Reshape z\n",
        "        z = z.view(-1, self.z_size)\n",
        "\n",
        "        # One-hot vector to embedding vector\n",
        "        c = self.label_emb(labels)\n",
        "\n",
        "        # Concat image & label\n",
        "        x = torch.cat([z, c], 1)\n",
        "\n",
        "        # Generator out\n",
        "        out = self.model(x)\n",
        "\n",
        "        return out.view(-1, self.img_size, self.img_size)"
      ]
    },
    {
      "cell_type": "code",
      "execution_count": 86,
      "metadata": {
        "id": "JB7hL7T8iQPi"
      },
      "outputs": [],
      "source": [
        "class Discriminator(nn.Module):\n",
        "    def __init__(self, discriminator_layer_size, img_size, class_num):\n",
        "        super().__init__()\n",
        "\n",
        "        self.label_emb = nn.Embedding(class_num, class_num)\n",
        "        self.img_size = img_size\n",
        "\n",
        "        self.model = nn.Sequential(\n",
        "            nn.Linear(self.img_size * self.img_size + class_num, discriminator_layer_size[0]),\n",
        "            nn.LeakyReLU(0.2, inplace=True),\n",
        "            nn.Dropout(0.3),\n",
        "            nn.Linear(discriminator_layer_size[0], discriminator_layer_size[1]),\n",
        "            nn.LeakyReLU(0.2, inplace=True),\n",
        "            nn.Dropout(0.3),\n",
        "            nn.Linear(discriminator_layer_size[1], discriminator_layer_size[2]),\n",
        "            nn.LeakyReLU(0.2, inplace=True),\n",
        "            nn.Dropout(0.3),\n",
        "            nn.Linear(discriminator_layer_size[2], 1),\n",
        "            nn.Sigmoid()\n",
        "        )\n",
        "\n",
        "    def forward(self, x, labels):\n",
        "\n",
        "        # Reshape fake image\n",
        "        x = x.view(-1, self.img_size * self.img_size)\n",
        "\n",
        "        # One-hot vector to embedding vector\n",
        "        c = self.label_emb(labels)\n",
        "\n",
        "        # Concat image & label\n",
        "        x = torch.cat([x, c], 1)\n",
        "\n",
        "        # Discriminator out\n",
        "        out = self.model(x)\n",
        "\n",
        "        return out.squeeze()"
      ]
    },
    {
      "cell_type": "code",
      "execution_count": null,
      "metadata": {},
      "outputs": [],
      "source": []
    },
    {
      "cell_type": "code",
      "execution_count": 87,
      "metadata": {
        "id": "WGoy4py6iUM7"
      },
      "outputs": [],
      "source": [
        "# Define generator\n",
        "generator = Generator(generator_layer_size, z_size, img_size, class_num).to(device)\n",
        "# Define discriminator\n",
        "discriminator = Discriminator(discriminator_layer_size, img_size, class_num).to(device)"
      ]
    },
    {
      "cell_type": "code",
      "execution_count": 88,
      "metadata": {
        "id": "j4YPy_q5iW9N"
      },
      "outputs": [],
      "source": [
        "# Loss function\n",
        "criterion = nn.BCELoss()"
      ]
    },
    {
      "cell_type": "code",
      "execution_count": 89,
      "metadata": {
        "id": "ie_TM9-1iZmq"
      },
      "outputs": [],
      "source": [
        "# Optimizer\n",
        "g_optimizer = torch.optim.Adam(generator.parameters(), lr=learning_rate)\n",
        "d_optimizer = torch.optim.Adam(discriminator.parameters(), lr=learning_rate)"
      ]
    },
    {
      "cell_type": "code",
      "execution_count": 90,
      "metadata": {
        "id": "LZoa7_JDibOn"
      },
      "outputs": [],
      "source": [
        "def generator_train_step(batch_size, discriminator, generator, g_optimizer, criterion):\n",
        "\n",
        "    # Init gradient\n",
        "    g_optimizer.zero_grad()\n",
        "\n",
        "    # Building z\n",
        "    z = Variable(torch.randn(batch_size, z_size)).to(device)\n",
        "\n",
        "    # Building fake labels\n",
        "    fake_labels = Variable(torch.LongTensor(np.random.randint(0, class_num, batch_size))).to(device)\n",
        "\n",
        "    # Generating fake images\n",
        "    fake_images = generator(z, fake_labels)\n",
        "\n",
        "    # Disciminating fake images\n",
        "    validity = discriminator(fake_images, fake_labels)\n",
        "\n",
        "    # Calculating discrimination loss (fake images)\n",
        "    g_loss = criterion(validity, Variable(torch.ones(batch_size)).to(device))\n",
        "\n",
        "    # Backword propagation\n",
        "    g_loss.backward()\n",
        "\n",
        "    #  Optimizing generator\n",
        "    g_optimizer.step()\n",
        "\n",
        "    return g_loss.data"
      ]
    },
    {
      "cell_type": "code",
      "execution_count": 91,
      "metadata": {
        "id": "icvKQ7TQidWP"
      },
      "outputs": [],
      "source": [
        "def discriminator_train_step(batch_size, discriminator, generator, d_optimizer, criterion, real_images, labels):\n",
        "\n",
        "    # Init gradient\n",
        "    d_optimizer.zero_grad()\n",
        "\n",
        "    # Disciminating real images\n",
        "    real_validity = discriminator(real_images, labels)\n",
        "\n",
        "    # Calculating discrimination loss (real images)\n",
        "    real_loss = criterion(real_validity, Variable(torch.ones(batch_size)).to(device))\n",
        "\n",
        "    # Building z\n",
        "    z = Variable(torch.randn(batch_size, z_size)).to(device)\n",
        "\n",
        "    # Building fake labels\n",
        "    fake_labels = Variable(torch.LongTensor(np.random.randint(0, class_num, batch_size))).to(device)\n",
        "\n",
        "    # Generating fake images\n",
        "    fake_images = generator(z, fake_labels)\n",
        "\n",
        "    # Disciminating fake images\n",
        "    fake_validity = discriminator(fake_images, fake_labels)\n",
        "\n",
        "    # Calculating discrimination loss (fake images)\n",
        "    fake_loss = criterion(fake_validity, Variable(torch.zeros(batch_size)).to(device))\n",
        "\n",
        "    # Sum two losses\n",
        "    d_loss = real_loss + fake_loss\n",
        "\n",
        "    # Backword propagation\n",
        "    d_loss.backward()\n",
        "\n",
        "    # Optimizing discriminator\n",
        "    d_optimizer.step()\n",
        "\n",
        "    return d_loss.data"
      ]
    },
    {
      "cell_type": "code",
      "execution_count": 93,
      "metadata": {
        "colab": {
          "base_uri": "https://localhost:8080/",
          "height": 1000
        },
        "id": "qg3mvuLNif1g",
        "outputId": "7d1248b8-70b2-40d1-ce19-787acf2a0105"
      },
      "outputs": [
        {
          "name": "stdout",
          "output_type": "stream",
          "text": [
            "Starting epoch 1...\n"
          ]
        },
        {
          "ename": "KeyboardInterrupt",
          "evalue": "",
          "output_type": "error",
          "traceback": [
            "\u001b[1;31m---------------------------------------------------------------------------\u001b[0m",
            "\u001b[1;31mKeyboardInterrupt\u001b[0m                         Traceback (most recent call last)",
            "Cell \u001b[1;32mIn[93], line 21\u001b[0m\n\u001b[0;32m     16\u001b[0m     d_loss \u001b[38;5;241m=\u001b[39m discriminator_train_step(\u001b[38;5;28mlen\u001b[39m(real_images), discriminator,\n\u001b[0;32m     17\u001b[0m                                       generator, d_optimizer, criterion,\n\u001b[0;32m     18\u001b[0m                                       real_images, labels)\n\u001b[0;32m     20\u001b[0m     \u001b[38;5;66;03m# Train generator\u001b[39;00m\n\u001b[1;32m---> 21\u001b[0m     g_loss \u001b[38;5;241m=\u001b[39m \u001b[43mgenerator_train_step\u001b[49m\u001b[43m(\u001b[49m\u001b[43mbatch_size\u001b[49m\u001b[43m,\u001b[49m\u001b[43m \u001b[49m\u001b[43mdiscriminator\u001b[49m\u001b[43m,\u001b[49m\u001b[43m \u001b[49m\u001b[43mgenerator\u001b[49m\u001b[43m,\u001b[49m\u001b[43m \u001b[49m\u001b[43mg_optimizer\u001b[49m\u001b[43m,\u001b[49m\u001b[43m \u001b[49m\u001b[43mcriterion\u001b[49m\u001b[43m)\u001b[49m\n\u001b[0;32m     23\u001b[0m \u001b[38;5;66;03m# Set generator eval\u001b[39;00m\n\u001b[0;32m     24\u001b[0m generator\u001b[38;5;241m.\u001b[39meval()\n",
            "Cell \u001b[1;32mIn[90], line 22\u001b[0m, in \u001b[0;36mgenerator_train_step\u001b[1;34m(batch_size, discriminator, generator, g_optimizer, criterion)\u001b[0m\n\u001b[0;32m     19\u001b[0m g_loss \u001b[38;5;241m=\u001b[39m criterion(validity, Variable(torch\u001b[38;5;241m.\u001b[39mones(batch_size))\u001b[38;5;241m.\u001b[39mto(device))\n\u001b[0;32m     21\u001b[0m \u001b[38;5;66;03m# Backword propagation\u001b[39;00m\n\u001b[1;32m---> 22\u001b[0m \u001b[43mg_loss\u001b[49m\u001b[38;5;241;43m.\u001b[39;49m\u001b[43mbackward\u001b[49m\u001b[43m(\u001b[49m\u001b[43m)\u001b[49m\n\u001b[0;32m     24\u001b[0m \u001b[38;5;66;03m#  Optimizing generator\u001b[39;00m\n\u001b[0;32m     25\u001b[0m g_optimizer\u001b[38;5;241m.\u001b[39mstep()\n",
            "File \u001b[1;32mc:\\Users\\LENOVO\\AppData\\Local\\Programs\\Python\\Python311\\Lib\\site-packages\\torch\\_tensor.py:487\u001b[0m, in \u001b[0;36mTensor.backward\u001b[1;34m(self, gradient, retain_graph, create_graph, inputs)\u001b[0m\n\u001b[0;32m    477\u001b[0m \u001b[38;5;28;01mif\u001b[39;00m has_torch_function_unary(\u001b[38;5;28mself\u001b[39m):\n\u001b[0;32m    478\u001b[0m     \u001b[38;5;28;01mreturn\u001b[39;00m handle_torch_function(\n\u001b[0;32m    479\u001b[0m         Tensor\u001b[38;5;241m.\u001b[39mbackward,\n\u001b[0;32m    480\u001b[0m         (\u001b[38;5;28mself\u001b[39m,),\n\u001b[1;32m   (...)\u001b[0m\n\u001b[0;32m    485\u001b[0m         inputs\u001b[38;5;241m=\u001b[39minputs,\n\u001b[0;32m    486\u001b[0m     )\n\u001b[1;32m--> 487\u001b[0m \u001b[43mtorch\u001b[49m\u001b[38;5;241;43m.\u001b[39;49m\u001b[43mautograd\u001b[49m\u001b[38;5;241;43m.\u001b[39;49m\u001b[43mbackward\u001b[49m\u001b[43m(\u001b[49m\n\u001b[0;32m    488\u001b[0m \u001b[43m    \u001b[49m\u001b[38;5;28;43mself\u001b[39;49m\u001b[43m,\u001b[49m\u001b[43m \u001b[49m\u001b[43mgradient\u001b[49m\u001b[43m,\u001b[49m\u001b[43m \u001b[49m\u001b[43mretain_graph\u001b[49m\u001b[43m,\u001b[49m\u001b[43m \u001b[49m\u001b[43mcreate_graph\u001b[49m\u001b[43m,\u001b[49m\u001b[43m \u001b[49m\u001b[43minputs\u001b[49m\u001b[38;5;241;43m=\u001b[39;49m\u001b[43minputs\u001b[49m\n\u001b[0;32m    489\u001b[0m \u001b[43m\u001b[49m\u001b[43m)\u001b[49m\n",
            "File \u001b[1;32mc:\\Users\\LENOVO\\AppData\\Local\\Programs\\Python\\Python311\\Lib\\site-packages\\torch\\autograd\\__init__.py:200\u001b[0m, in \u001b[0;36mbackward\u001b[1;34m(tensors, grad_tensors, retain_graph, create_graph, grad_variables, inputs)\u001b[0m\n\u001b[0;32m    195\u001b[0m     retain_graph \u001b[38;5;241m=\u001b[39m create_graph\n\u001b[0;32m    197\u001b[0m \u001b[38;5;66;03m# The reason we repeat same the comment below is that\u001b[39;00m\n\u001b[0;32m    198\u001b[0m \u001b[38;5;66;03m# some Python versions print out the first line of a multi-line function\u001b[39;00m\n\u001b[0;32m    199\u001b[0m \u001b[38;5;66;03m# calls in the traceback and some print out the last line\u001b[39;00m\n\u001b[1;32m--> 200\u001b[0m \u001b[43mVariable\u001b[49m\u001b[38;5;241;43m.\u001b[39;49m\u001b[43m_execution_engine\u001b[49m\u001b[38;5;241;43m.\u001b[39;49m\u001b[43mrun_backward\u001b[49m\u001b[43m(\u001b[49m\u001b[43m  \u001b[49m\u001b[38;5;66;43;03m# Calls into the C++ engine to run the backward pass\u001b[39;49;00m\n\u001b[0;32m    201\u001b[0m \u001b[43m    \u001b[49m\u001b[43mtensors\u001b[49m\u001b[43m,\u001b[49m\u001b[43m \u001b[49m\u001b[43mgrad_tensors_\u001b[49m\u001b[43m,\u001b[49m\u001b[43m \u001b[49m\u001b[43mretain_graph\u001b[49m\u001b[43m,\u001b[49m\u001b[43m \u001b[49m\u001b[43mcreate_graph\u001b[49m\u001b[43m,\u001b[49m\u001b[43m \u001b[49m\u001b[43minputs\u001b[49m\u001b[43m,\u001b[49m\n\u001b[0;32m    202\u001b[0m \u001b[43m    \u001b[49m\u001b[43mallow_unreachable\u001b[49m\u001b[38;5;241;43m=\u001b[39;49m\u001b[38;5;28;43;01mTrue\u001b[39;49;00m\u001b[43m,\u001b[49m\u001b[43m \u001b[49m\u001b[43maccumulate_grad\u001b[49m\u001b[38;5;241;43m=\u001b[39;49m\u001b[38;5;28;43;01mTrue\u001b[39;49;00m\u001b[43m)\u001b[49m\n",
            "\u001b[1;31mKeyboardInterrupt\u001b[0m: "
          ]
        }
      ],
      "source": [
        "for epoch in range(epochs):\n",
        "\n",
        "    print('Starting epoch {}...'.format(epoch+1))\n",
        "\n",
        "    for i, (images, labels) in enumerate(data_loader):\n",
        "\n",
        "        # Train data\n",
        "        real_images = Variable(images).to(device)\n",
        "        labels = Variable(labels).to(device)\n",
        "\n",
        "        # Set generator train\n",
        "        generator.train()\n",
        "\n",
        "        # Train discriminator\n",
        "        # print(len(real_images), len(labels))\n",
        "        d_loss = discriminator_train_step(len(real_images), discriminator,\n",
        "                                          generator, d_optimizer, criterion,\n",
        "                                          real_images, labels)\n",
        "\n",
        "        # Train generator\n",
        "        g_loss = generator_train_step(batch_size, discriminator, generator, g_optimizer, criterion)\n",
        "\n",
        "    # Set generator eval\n",
        "    generator.eval()\n",
        "\n",
        "    print('g_loss: {}, d_loss: {}'.format(g_loss, d_loss))\n",
        "\n",
        "    # Building z\n",
        "    z = Variable(torch.randn(class_num-1, z_size)).to(device)\n",
        "\n",
        "    # Labels 0 ~ 8\n",
        "    labels = Variable(torch.LongTensor(np.arange(class_num-1))).to(device)\n",
        "\n",
        "    # Generating images\n",
        "    sample_images = generator(z, labels).unsqueeze(1).data.cpu()\n",
        "\n",
        "    # Show images\n",
        "    grid = make_grid(sample_images, nrow=3, normalize=True).permute(1,2,0).numpy()\n",
        "    plt.imshow(grid)\n",
        "    plt.show()"
      ]
    },
    {
      "cell_type": "code",
      "execution_count": null,
      "metadata": {
        "id": "7RVzrdqej8ka"
      },
      "outputs": [],
      "source": [
        "# Building z\n",
        "z = Variable(torch.randn(z_size, z_size)).to(device)\n",
        "\n",
        "# Labels 0 ~ 9\n",
        "labels = Variable(torch.LongTensor([i for _ in range(class_num) for i in range(class_num)])).to(device)\n",
        "\n",
        "# Generating images\n",
        "sample_images = generator(z, labels).unsqueeze(1).data.cpu()\n",
        "\n",
        "# Show images\n",
        "grid = make_grid(sample_images, nrow=class_num, normalize=True).permute(1,2,0).numpy()\n",
        "fig, ax = plt.subplots(figsize=(15,15))\n",
        "ax.imshow(grid)\n",
        "_ = plt.yticks([])\n",
        "_ = plt.xticks(np.arange(15, 300, 30), class_list, rotation=45, fontsize=20)"
      ]
    }
  ],
  "metadata": {
    "accelerator": "GPU",
    "colab": {
      "gpuType": "T4",
      "provenance": []
    },
    "kernelspec": {
      "display_name": "Python 3",
      "name": "python3"
    },
    "language_info": {
      "codemirror_mode": {
        "name": "ipython",
        "version": 3
      },
      "file_extension": ".py",
      "mimetype": "text/x-python",
      "name": "python",
      "nbconvert_exporter": "python",
      "pygments_lexer": "ipython3",
      "version": "3.11.2"
    }
  },
  "nbformat": 4,
  "nbformat_minor": 0
}
