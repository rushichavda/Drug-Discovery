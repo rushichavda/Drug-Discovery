{
 "cells": [
  {
   "cell_type": "markdown",
   "id": "bef6d275",
   "metadata": {},
   "source": [
    "Final Project Program - Rushi Chavda - 20D100007"
   ]
  },
  {
   "cell_type": "code",
   "execution_count": 1,
   "id": "fab9e1df",
   "metadata": {
    "execution": {
     "iopub.execute_input": "2022-03-28T10:31:11.683292Z",
     "iopub.status.busy": "2022-03-28T10:31:11.681695Z",
     "iopub.status.idle": "2022-03-28T10:31:22.239493Z",
     "shell.execute_reply": "2022-03-28T10:31:22.238499Z",
     "shell.execute_reply.started": "2022-03-27T14:43:34.653157Z"
    },
    "id": "zBkOt6LKU3K7",
    "outputId": "66ff89d7-4c51-43ac-e8b6-ce049a7ef1a7",
    "papermill": {
     "duration": 10.593494,
     "end_time": "2022-03-28T10:31:22.239655",
     "exception": false,
     "start_time": "2022-03-28T10:31:11.646161",
     "status": "completed"
    },
    "tags": []
   },
   "outputs": [],
   "source": [
    "!pip -q install rdkit-pypi"
   ]
  },
  {
   "cell_type": "code",
   "execution_count": 2,
   "id": "79e22fda",
   "metadata": {
    "execution": {
     "iopub.execute_input": "2022-03-28T10:31:22.302728Z",
     "iopub.status.busy": "2022-03-28T10:31:22.301896Z",
     "iopub.status.idle": "2022-03-28T10:31:27.425074Z",
     "shell.execute_reply": "2022-03-28T10:31:27.424611Z",
     "shell.execute_reply.started": "2022-03-27T14:43:46.522579Z"
    },
    "id": "-A3c2JuEWdKJ",
    "papermill": {
     "duration": 5.158417,
     "end_time": "2022-03-28T10:31:27.425211",
     "exception": false,
     "start_time": "2022-03-28T10:31:22.266794",
     "status": "completed"
    },
    "tags": []
   },
   "outputs": [],
   "source": [
    "import ast\n",
    "\n",
    "import pandas as pd\n",
    "import numpy as np\n",
    "\n",
    "import tensorflow as tf\n",
    "import keras\n",
    "from keras import layers\n",
    "\n",
    "import matplotlib.pyplot as plt\n",
    "from rdkit import Chem, RDLogger\n",
    "from rdkit.Chem.Draw import MolsToGridImage\n",
    "\n",
    "RDLogger.DisableLog(\"rdApp.*\")"
   ]
  },
  {
   "cell_type": "code",
   "execution_count": 3,
   "id": "457774f9",
   "metadata": {
    "execution": {
     "iopub.execute_input": "2022-03-28T10:31:27.536369Z",
     "iopub.status.busy": "2022-03-28T10:31:27.535870Z",
     "iopub.status.idle": "2022-03-28T10:31:28.199465Z",
     "shell.execute_reply": "2022-03-28T10:31:28.199874Z",
     "shell.execute_reply.started": "2022-03-27T14:43:52.303142Z"
    },
    "id": "3jpjZBWoHyIV",
    "outputId": "725edd29-2b54-4859-c38f-713d6aba5747",
    "papermill": {
     "duration": 0.694725,
     "end_time": "2022-03-28T10:31:28.200012",
     "exception": false,
     "start_time": "2022-03-28T10:31:27.505287",
     "status": "completed"
    },
    "tags": []
   },
   "outputs": [],
   "source": [
    "# data loading and basic preprocessing\n",
    "df = pd.read_csv(r\"dataset\\250k_rndm_zinc_drugs_clean_3.csv\")\n",
    "df['smiles'] = df['smiles'].apply(lambda s: s.replace('\\n', ''))\n",
    "df.head()\n",
    "df = df[:1000].copy()"
   ]
  },
  {
   "cell_type": "code",
   "execution_count": 4,
   "id": "c78847b1",
   "metadata": {
    "execution": {
     "iopub.execute_input": "2022-03-28T10:31:28.260707Z",
     "iopub.status.busy": "2022-03-28T10:31:28.259186Z",
     "iopub.status.idle": "2022-03-28T10:31:28.261311Z",
     "shell.execute_reply": "2022-03-28T10:31:28.261735Z",
     "shell.execute_reply.started": "2022-03-27T14:43:53.112259Z"
    },
    "id": "zgHgKkegH4F4",
    "papermill": {
     "duration": 0.034601,
     "end_time": "2022-03-28T10:31:28.261863",
     "exception": false,
     "start_time": "2022-03-28T10:31:28.227262",
     "status": "completed"
    },
    "tags": []
   },
   "outputs": [],
   "source": [
    "# To convert smile into molecule represnetation, which one can see. basiclly i have used a famous library rdkit to do this.\n",
    "\n",
    "def molecule_from_smiles(smiles):\n",
    "    molecule = Chem.MolFromSmiles(smiles, sanitize=False)\n",
    "    flag = Chem.SanitizeMol(molecule, catchErrors=True)\n",
    "    if flag != Chem.SanitizeFlags.SANITIZE_NONE:\n",
    "        Chem.SanitizeMol(molecule, sanitizeOps=Chem.SanitizeFlags.SANITIZE_ALL ^ flag)\n",
    "\n",
    "    Chem.AssignStereochemistry(molecule, cleanIt=True, force=True)\n",
    "    return molecule\n",
    "    "
   ]
  },
  {
   "cell_type": "code",
   "execution_count": 5,
   "id": "761fd3c6",
   "metadata": {
    "execution": {
     "iopub.execute_input": "2022-03-28T10:31:28.319789Z",
     "iopub.status.busy": "2022-03-28T10:31:28.318800Z",
     "iopub.status.idle": "2022-03-28T10:31:28.333583Z",
     "shell.execute_reply": "2022-03-28T10:31:28.333985Z",
     "shell.execute_reply.started": "2022-03-27T14:43:53.119172Z"
    },
    "id": "5Bl-9VRHUc_g",
    "outputId": "42f0db7f-ce10-4b0d-eca1-432f56f3bb63",
    "papermill": {
     "duration": 0.04579,
     "end_time": "2022-03-28T10:31:28.334110",
     "exception": false,
     "start_time": "2022-03-28T10:31:28.288320",
     "status": "completed"
    },
    "tags": []
   },
   "outputs": [
    {
     "name": "stdout",
     "output_type": "stream",
     "text": [
      "SMILES:\tCCc1ccc(CNC(=O)c2ccc(-c3nccnc3N3CCCCC3)cc2)cc1\n",
      "logP:\t4.6263\n",
      "qed:\t0.6265585492769999\n",
      "Molecule:\n"
     ]
    },
    {
     "data": {
      "image/png": "[encoded data removed]",
      "text/plain": [
       "<rdkit.Chem.rdchem.Mol at 0x1ddd8483d80>"
      ]
     },
     "execution_count": 5,
     "metadata": {},
     "output_type": "execute_result"
    }
   ],
   "source": [
    "print(f\"SMILES:\\t{df.smiles[99]}\\nlogP:\\t{df.logP[99]}\\nqed:\\t{df.qed[99]}\")\n",
    "molecule = molecule_from_smiles(df.iloc[99].smiles)\n",
    "print(\"Molecule:\")\n",
    "molecule"
   ]
  },
  {
   "cell_type": "markdown",
   "id": "21778cf4",
   "metadata": {},
   "source": [
    "In this cell, we initialize some key variables and mappings essential for processing SMILES representations of chemical compounds.\n",
    "\n",
    "We start by defining a character set for SMILES notation in the variable SMILE_CHARSET.\n",
    "\n",
    "Next, we create a dictionary called bond_mapping to map bond types to their corresponding numerical values and vice versa, using Chem.BondType from RDKit.\n",
    "\n",
    "Then, we convert the SMILE_CHARSET string into a Python list using ast.literal_eval() for further processing.\n",
    "\n",
    "Moving on, we determine the maximum size of molecules in a dataset (df) by finding the maximum length of SMILES strings present.\n",
    "\n",
    "Finally, we create dictionaries SMILE_to_index and index_to_SMILE to map characters to indices and vice versa, and combine them into atom_mapping.\n",
    "\n",
    "We print out the maximum molecule size and the length of the character set for reference."
   ]
  },
  {
   "cell_type": "code",
   "execution_count": 6,
   "id": "d2ed95ab",
   "metadata": {
    "execution": {
     "iopub.execute_input": "2022-03-28T10:31:28.419682Z",
     "iopub.status.busy": "2022-03-28T10:31:28.418827Z",
     "iopub.status.idle": "2022-03-28T10:31:28.585543Z",
     "shell.execute_reply": "2022-03-28T10:31:28.586089Z",
     "shell.execute_reply.started": "2022-03-27T14:43:53.139804Z"
    },
    "id": "2a28g7DsyWfP",
    "outputId": "af1f59ea-7f7e-4e0b-dcc3-4de1cf58f490",
    "papermill": {
     "duration": 0.224506,
     "end_time": "2022-03-28T10:31:28.586286",
     "exception": false,
     "start_time": "2022-03-28T10:31:28.361780",
     "status": "completed"
    },
    "tags": []
   },
   "outputs": [
    {
     "name": "stdout",
     "output_type": "stream",
     "text": [
      "Max molecule size: 105\n",
      "Character set Length: 11\n"
     ]
    }
   ],
   "source": [
    "\n",
    "SMILE_CHARSET = '[\"C\", \"B\", \"F\", \"I\", \"H\", \"O\", \"N\", \"S\", \\\n",
    "                  \"P\", \"Cl\", \"Br\"]'             \n",
    "bond_mapping = {\n",
    "    \"SINGLE\": 0,\n",
    "    0: Chem.BondType.SINGLE,\n",
    "    \"DOUBLE\": 1,\n",
    "    1: Chem.BondType.DOUBLE,\n",
    "    \"TRIPLE\": 2,\n",
    "    2: Chem.BondType.TRIPLE,\n",
    "    \"AROMATIC\": 3,\n",
    "    3: Chem.BondType.AROMATIC,\n",
    "}\n",
    "SMILE_CHARSET = ast.literal_eval(SMILE_CHARSET)\n",
    "\n",
    "MAX_MOLSIZE = max(df['smiles'].str.len())\n",
    "SMILE_to_index = dict((c, i) for i, c in enumerate(SMILE_CHARSET))\n",
    "index_to_SMILE = dict((i, c) for i, c in enumerate(SMILE_CHARSET))\n",
    "atom_mapping = dict(SMILE_to_index)\n",
    "atom_mapping.update(index_to_SMILE)\n",
    "\n",
    "print(\"Max molecule size: {}\".format(MAX_MOLSIZE))\n",
    "print(\"Character set Length: {}\".format(len(SMILE_CHARSET)))"
   ]
  },
  {
   "cell_type": "markdown",
   "id": "99b35d67",
   "metadata": {
    "id": "nqMBVEtntlhi",
    "papermill": {
     "duration": 0.02771,
     "end_time": "2022-03-28T10:31:28.642565",
     "exception": false,
     "start_time": "2022-03-28T10:31:28.614855",
     "status": "completed"
    },
    "tags": []
   },
   "source": [
    "## Hyperparameters"
   ]
  },
  {
   "cell_type": "markdown",
   "id": "a088cc69",
   "metadata": {},
   "source": [
    "In this cell, we set up some essential parameters for our variational autoencoder (VAE) model used for processing molecular data.\n",
    "\n",
    "We define BATCH_SIZE as 32, which represents the number of samples processed in each training iteration.\n",
    "\n",
    "The variable EPOCHS is set to 10, indicating the number of complete passes through the entire dataset during training.\n",
    "\n",
    "Next, we specify the learning rate for our VAE model as VAE_LR, set to 5e-4.\n",
    "\n",
    "We define NUM_ATOMS as 120, representing the maximum number of atoms in a molecule.\n",
    "\n",
    "ATOM_DIM is calculated as the length of our SMILE_CHARSET, indicating the number of different atom types present in our dataset.\n",
    "\n",
    "Similarly, BOND_DIM is set to 4 plus 1, representing the number of bond types. The additional 1 accounts for a special token representing absence of a bond.\n",
    "\n",
    "Lastly, we define LATENT_DIM as 435, representing the size of the latent space in our VAE model."
   ]
  },
  {
   "cell_type": "code",
   "execution_count": 7,
   "id": "8c11019d",
   "metadata": {
    "execution": {
     "iopub.execute_input": "2022-03-28T10:31:28.702524Z",
     "iopub.status.busy": "2022-03-28T10:31:28.701987Z",
     "iopub.status.idle": "2022-03-28T10:31:28.705393Z",
     "shell.execute_reply": "2022-03-28T10:31:28.704998Z",
     "shell.execute_reply.started": "2022-03-27T14:43:53.362681Z"
    },
    "id": "0L44eVm-tkSL",
    "papermill": {
     "duration": 0.035246,
     "end_time": "2022-03-28T10:31:28.705523",
     "exception": false,
     "start_time": "2022-03-28T10:31:28.670277",
     "status": "completed"
    },
    "tags": []
   },
   "outputs": [],
   "source": [
    "BATCH_SIZE = 32\n",
    "EPOCHS =10\n",
    "\n",
    "VAE_LR = 5e-4\n",
    "NUM_ATOMS = 120 # Maximum number of atoms\n",
    "\n",
    "ATOM_DIM = len(SMILE_CHARSET)  # Number of atom types\n",
    "BOND_DIM = 4 + 1  # Number of bond types\n",
    "LATENT_DIM = 435  # Size of the latent space"
   ]
  },
  {
   "cell_type": "markdown",
   "id": "2db280a9",
   "metadata": {},
   "source": [
    "\n",
    "\n",
    "Starting with smiles_to_graph, this function utilizes RDKit, a powerful toolkit for cheminformatics, to convert SMILES strings into graph representations.\n",
    "\n",
    "Firstly, it creates a molecule object using Chem.MolFromSmiles(smiles), which parses the SMILES string and constructs a molecular structure.\n",
    "\n",
    "Then, it initializes an adjacency matrix and a feature matrix. The adjacency matrix represents bonds between atoms, while the feature matrix represents atom types.\n",
    "\n",
    "For each atom in the molecule, it assigns a one-hot encoded vector in the feature matrix, indicating the atom type based on the atom_mapping.\n",
    "\n",
    "Next, it iterates over atom pairs to populate the adjacency matrix with bond information. Bonds between atoms are determined using molecule.GetBondBetweenAtoms(i, j).\n",
    "\n",
    "Additionally, it handles cases where no bond exists or where no atom is present by adding special tokens to the matrices.\n",
    "\n",
    "Moving on to graph_to_molecule, this function reconstructs a molecule object from a graph representation.\n",
    "\n",
    "It first removes atoms with no bonds and bonds that don't connect atoms, ensuring the validity of the molecular structure.\n",
    "\n",
    "Then, it iterates over atoms in the feature matrix, adding them to the molecule object.\n",
    "\n",
    "Next, it establishes bonds between atoms based on the adjacency matrix, effectively reconstructing the molecular bonds.\n",
    "\n",
    "Afterward, it sanitizes the molecule using Chem.SanitizeMol(molecule) to ensure its structural integrity. If sanitization fails, indicating an invalid molecular structure, it returns None.\n",
    "\n",
    "These functions play a crucial role in bridging the gap between the symbolic representation of molecules (SMILES) and their graph-based representation, facilitating further processing within the model."
   ]
  },
  {
   "cell_type": "code",
   "execution_count": 8,
   "id": "e5675775",
   "metadata": {
    "execution": {
     "iopub.execute_input": "2022-03-28T10:31:28.776568Z",
     "iopub.status.busy": "2022-03-28T10:31:28.768780Z",
     "iopub.status.idle": "2022-03-28T10:31:28.778755Z",
     "shell.execute_reply": "2022-03-28T10:31:28.778327Z",
     "shell.execute_reply.started": "2022-03-27T14:43:53.369108Z"
    },
    "id": "JrFJum15nX8j",
    "papermill": {
     "duration": 0.045361,
     "end_time": "2022-03-28T10:31:28.778864",
     "exception": false,
     "start_time": "2022-03-28T10:31:28.733503",
     "status": "completed"
    },
    "tags": []
   },
   "outputs": [],
   "source": [
    "def smiles_to_graph(smiles):\n",
    "\n",
    "    # Converts SMILES to molecule object\n",
    "    molecule = Chem.MolFromSmiles(smiles)\n",
    "\n",
    "    # Initialize adjacency and feature tensor\n",
    "    adjacency = np.zeros((BOND_DIM, NUM_ATOMS, NUM_ATOMS), \"float32\")\n",
    "    features = np.zeros((NUM_ATOMS, ATOM_DIM), \"float32\")\n",
    "\n",
    "    # loop over each atom in molecule\n",
    "    for atom in molecule.GetAtoms():\n",
    "        i = atom.GetIdx()\n",
    "        atom_type = atom_mapping[atom.GetSymbol()]\n",
    "        features[i] = np.eye(ATOM_DIM)[atom_type]\n",
    "        # loop over one-hop neighbors\n",
    "        for neighbor in atom.GetNeighbors():\n",
    "            j = neighbor.GetIdx()\n",
    "            bond = molecule.GetBondBetweenAtoms(i, j)\n",
    "            bond_type_idx = bond_mapping[bond.GetBondType().name]\n",
    "            adjacency[bond_type_idx, [i, j], [j, i]] = 1\n",
    "\n",
    "    # Where no bond, add 1 to last channel (indicating \"non-bond\")\n",
    "    # Notice: channels-first\n",
    "    adjacency[-1, np.sum(adjacency, axis=0) == 0] = 1\n",
    "\n",
    "    # Where no atom, add 1 to last column (indicating \"non-atom\")\n",
    "    features[np.where(np.sum(features, axis=1) == 0)[0], -1] = 1\n",
    "\n",
    "    return adjacency, features\n",
    "\n",
    "def graph_to_molecule(graph):\n",
    "\n",
    "    # Unpack graph\n",
    "    adjacency, features = graph\n",
    "\n",
    "    # RWMol is a molecule object intended to be edited\n",
    "    molecule = Chem.RWMol()\n",
    "\n",
    "    # Remove \"no atoms\" & atoms with no bonds\n",
    "    keep_idx = np.where(\n",
    "        (np.argmax(features, axis=1) != ATOM_DIM - 1)\n",
    "        & (np.sum(adjacency[:-1], axis=(0, 1)) != 0)\n",
    "    )[0]\n",
    "    features = features[keep_idx]\n",
    "    adjacency = adjacency[:, keep_idx, :][:, :, keep_idx]\n",
    "\n",
    "    # Add atoms to molecule\n",
    "    for atom_type_idx in np.argmax(features, axis=1):\n",
    "        atom = Chem.Atom(atom_mapping[atom_type_idx])\n",
    "        _ = molecule.AddAtom(atom)\n",
    "\n",
    "    # Add bonds between atoms in molecule; based on the upper triangles\n",
    "    # of the [symmetric] adjacency tensor\n",
    "    (bonds_ij, atoms_i, atoms_j) = np.where(np.triu(adjacency) == 1)\n",
    "    for (bond_ij, atom_i, atom_j) in zip(bonds_ij, atoms_i, atoms_j):\n",
    "        if atom_i == atom_j or bond_ij == BOND_DIM - 1:\n",
    "            continue\n",
    "        bond_type = bond_mapping[bond_ij]\n",
    "        molecule.AddBond(int(atom_i), int(atom_j), bond_type)\n",
    "\n",
    "    # Sanitize the molecule; for more information on sanitization, see\n",
    "    # https://www.rdkit.org/docs/RDKit_Book.html#molecular-sanitization\n",
    "    flag = Chem.SanitizeMol(molecule, catchErrors=True)\n",
    "    # Let's be strict. If sanitization fails, return None\n",
    "    if flag != Chem.SanitizeFlags.SANITIZE_NONE:\n",
    "        return None\n",
    "\n",
    "    return molecule"
   ]
  },
  {
   "cell_type": "code",
   "execution_count": 16,
   "id": "a06663ba",
   "metadata": {},
   "outputs": [
    {
     "name": "stdout",
     "output_type": "stream",
     "text": [
      "N#Cc1ccc(-c2ccc(O[C@@H](C(=O)N3CCCC3)c3ccccc3)cc2)cc1\n",
      "Adjacency matrix: (5, 120, 120)\n",
      "Feature matrix: (120, 11)\n"
     ]
    }
   ],
   "source": [
    "print(df.iloc[2].smiles)\n",
    "\n",
    "a,f = smiles_to_graph(df.iloc[29].smiles)\n",
    "print(\"Adjacency matrix:\", a.shape)\n",
    "print(\"Feature matrix:\", f.shape)"
   ]
  },
  {
   "cell_type": "code",
   "execution_count": 15,
   "id": "be43e33b",
   "metadata": {},
   "outputs": [
    {
     "data": {
      "image/png": "[encoded data removed]",
      "text/plain": [
       "<Figure size 640x480 with 1 Axes>"
      ]
     },
     "metadata": {},
     "output_type": "display_data"
    }
   ],
   "source": [
    "\n",
    "matrix_3d = a.copy()  # replace this with your actual matrix\n",
    "\n",
    "fig = plt.figure()\n",
    "ax = fig.add_subplot(111, projection='3d')\n",
    "\n",
    "x, y, z = matrix_3d.nonzero()\n",
    "c = matrix_3d[x, y, z]  # color values\n",
    "\n",
    "ax.scatter(x, y, z, c=c)\n",
    "plt.show()"
   ]
  },
  {
   "cell_type": "markdown",
   "id": "90af2c4a",
   "metadata": {
    "id": "UfVuqabPzIxe",
    "papermill": {
     "duration": 0.028073,
     "end_time": "2022-03-28T10:31:28.834783",
     "exception": false,
     "start_time": "2022-03-28T10:31:28.806710",
     "status": "completed"
    },
    "tags": []
   },
   "source": [
    "## Build Dataloader"
   ]
  },
  {
   "cell_type": "markdown",
   "id": "a7964755",
   "metadata": {},
   "source": [
    "Now, let's explore the DataGenerator class, which is a custom data generator inheriting from keras.utils.Sequence. This class is responsible for generating batches of data during training.\n",
    "\n",
    "In the __init__ method, we initialize various attributes such as the dataset (data), mapping, maximum length of molecules (max_len), batch size (batch_size), and whether to shuffle the data (shuffle). We also call the on_epoch_end method to update indices after each epoch.\n",
    "\n",
    "The __len__ method returns the number of batches in the dataset.\n",
    "\n",
    "In the __getitem__ method, we generate one batch of data. We calculate the indices of the current batch and retrieve the corresponding data. Then, we call the data_generation method to generate the molecular features and properties.\n",
    "\n",
    "The on_epoch_end method updates the indices after each epoch, optionally shuffling the data.\n",
    "\n",
    "The load method loads molecular adjacency matrices, feature matrices from SMILES representation, and their respective QED (quantitative estimation of druglikeness) values.\n",
    "\n",
    "Lastly, the data_generation method generates input data for the model. It creates empty arrays to store molecular features, properties, and QED values for the batch. Then, it iterates over the batch, loading data for each molecule using the load method."
   ]
  },
  {
   "cell_type": "code",
   "execution_count": 17,
   "id": "0cdde1e0",
   "metadata": {},
   "outputs": [],
   "source": [
    "class DataGenerator(keras.utils.Sequence):\n",
    "    def __init__(self, data, mapping, max_len, batch_size=6, shuffle=True):\n",
    "        \"\"\"\n",
    "        Initialization\n",
    "        \"\"\"\n",
    "        self.data = data\n",
    "        self.indices = self.data.index.tolist()\n",
    "        self.mapping = mapping\n",
    "        self.max_len = max_len\n",
    "        self.batch_size = batch_size\n",
    "        self.shuffle = shuffle\n",
    "        \n",
    "        self.on_epoch_end()\n",
    "\n",
    "    def __len__(self):\n",
    "        return int(np.ceil(len(self.data) / self.batch_size))\n",
    "\n",
    "    def __getitem__(self, index):\n",
    "        if (index + 1) * self.batch_size > len(self.indices):\n",
    "            self.batch_size = len(self.indices) - index * self.batch_size\n",
    "        # Generate one batch of data\n",
    "        # Generate indices of the batch\n",
    "        index = self.indices[index * self.batch_size : (index + 1) * self.batch_size]\n",
    "        # Find list of IDs\n",
    "        batch = [self.indices[k] for k in index]\n",
    "        mol_features, mol_property = self.data_generation(batch)\n",
    "\n",
    "        return mol_features, mol_property\n",
    "\n",
    "    def on_epoch_end(self):\n",
    "\n",
    "        \"\"\"\n",
    "        Updates indexes after each epoch\n",
    "        \"\"\"\n",
    "        self.indices = np.arange(len(self.data))  # Modify to update indices correctly\n",
    "        if self.shuffle == True:\n",
    "            np.random.shuffle(self.indices)\n",
    "\n",
    "    def load(self, idx):\n",
    "        \"\"\"\n",
    "        Load molecules adjacency matrix and features matrix from SMILE representation \n",
    "        and their respective SAS value.\n",
    "        \"\"\"\n",
    "        qed = self.data.loc[idx]['qed']\n",
    "\n",
    "        adjacency, features = smiles_to_graph(self.data.loc[idx]['smiles'])\n",
    "\n",
    "        return adjacency, features, qed\n",
    "    \n",
    "    def data_generation(self, batch):\n",
    "        x1 = np.empty((self.batch_size, BOND_DIM, self.max_len, self.max_len))\n",
    "        x2 = np.empty((self.batch_size, self.max_len, len(self.mapping)))\n",
    "        x3 = np.empty((self.batch_size, ))\n",
    "        \n",
    "        for i, batch_id in enumerate(batch):\n",
    "            x1[i,], x2[i,], x3[i,] = self.load(batch_id)\n",
    "\n",
    "        return (np.array(x1), np.array(x2)), np.array(x3)\n",
    "\n"
   ]
  },
  {
   "cell_type": "markdown",
   "id": "d336fd7e",
   "metadata": {
    "papermill": {
     "duration": 0.028121,
     "end_time": "2022-03-28T10:31:28.962798",
     "exception": false,
     "start_time": "2022-03-28T10:31:28.934677",
     "status": "completed"
    },
    "tags": []
   },
   "source": [
    "##  Generate training set"
   ]
  },
  {
   "cell_type": "code",
   "execution_count": 18,
   "id": "88bebccc",
   "metadata": {
    "execution": {
     "iopub.execute_input": "2022-03-28T10:31:29.030361Z",
     "iopub.status.busy": "2022-03-28T10:31:29.029559Z",
     "iopub.status.idle": "2022-03-28T10:31:29.112828Z",
     "shell.execute_reply": "2022-03-28T10:31:29.111803Z",
     "shell.execute_reply.started": "2022-03-27T14:43:53.412052Z"
    },
    "id": "eI79q8CCaNmd",
    "papermill": {
     "duration": 0.122144,
     "end_time": "2022-03-28T10:31:29.112961",
     "exception": false,
     "start_time": "2022-03-28T10:31:28.990817",
     "status": "completed"
    },
    "tags": []
   },
   "outputs": [],
   "source": [
    "train_df = df.sample(frac=0.75,random_state=42) #random state is a seed value\n",
    "test_df = df.drop(train_df.index)\n",
    "train_df.reset_index(drop=True, inplace=True)\n",
    "test_df.reset_index(drop=True, inplace=True)"
   ]
  },
  {
   "cell_type": "markdown",
   "id": "a59746c5",
   "metadata": {},
   "source": [
    "In this cell, we define a custom layer called RelationalGraphConvLayer, which implements a relational graph convolution operation.\n",
    "\n",
    "The constructor (__init__ method) accepts various parameters such as the number of units, activation function, use of bias, initializers, and regularizers. These parameters allow customization of the layer's behavior.\n",
    "\n",
    "Inside the constructor, we initialize the layer's attributes based on the provided parameters.\n",
    "\n",
    "The build method is called during the layer's initialization and is responsible for creating the layer's weights. It determines the shape of the kernel weights based on the input shapes.\n",
    "\n",
    "The call method implements the layer's forward pass. It takes adjacency matrices and feature matrices as inputs and performs the following operations:\n",
    "\n",
    "Aggregate information from neighboring atoms using matrix multiplication (tf.matmul).\n",
    "Apply a linear transformation by multiplying with the kernel weights.\n",
    "Optionally, add bias terms.\n",
    "Reduce the dimensionality of the output tensor by summing over the bond types dimension.\n",
    "Apply the activation function.\n",
    "The resulting tensor represents the output of the relational graph convolution operation."
   ]
  },
  {
   "cell_type": "code",
   "execution_count": 19,
   "id": "ff8250fc",
   "metadata": {},
   "outputs": [],
   "source": [
    "class RelationalGraphConvLayer(tf.keras.layers.Layer):\n",
    "    def __init__(\n",
    "        self,\n",
    "        units=128,\n",
    "        activation=\"relu\",\n",
    "        use_bias=False,\n",
    "        kernel_initializer=\"glorot_uniform\",\n",
    "        bias_initializer=\"zeros\",\n",
    "        kernel_regularizer=None,\n",
    "        bias_regularizer=None,\n",
    "        **kwargs\n",
    "    ):\n",
    "        super().__init__(**kwargs)\n",
    "\n",
    "        self.units = units\n",
    "        self.activation = tf.keras.activations.get(activation)\n",
    "        self.use_bias = use_bias\n",
    "        self.kernel_initializer = tf.keras.initializers.get(kernel_initializer)\n",
    "        self.bias_initializer = tf.keras.initializers.get(bias_initializer)\n",
    "        self.kernel_regularizer = tf.keras.regularizers.get(kernel_regularizer)\n",
    "        self.bias_regularizer = tf.keras.regularizers.get(bias_regularizer)\n",
    "\n",
    "    def build(self, input_shape):\n",
    "        bond_dim = input_shape[0][1]\n",
    "        atom_dim = input_shape[1][2]\n",
    "\n",
    "        self.kernel = self.add_weight(\n",
    "            shape=(bond_dim, atom_dim, self.units),\n",
    "            initializer=self.kernel_initializer,\n",
    "            regularizer=self.kernel_regularizer,\n",
    "            trainable=True,\n",
    "            name=\"W\",\n",
    "            dtype=tf.float32,\n",
    "        )\n",
    "\n",
    "        if self.use_bias:\n",
    "            self.bias = self.add_weight(\n",
    "                shape=(bond_dim, 1, self.units),\n",
    "                initializer=self.bias_initializer,\n",
    "                regularizer=self.bias_regularizer,\n",
    "                trainable=True,\n",
    "                name=\"b\",\n",
    "                dtype=tf.float32,\n",
    "            )\n",
    "\n",
    "        self.built = True\n",
    "\n",
    "    def call(self, inputs, training=False):\n",
    "        adjacency, features = inputs\n",
    "        # Aggregate information from neighbors\n",
    "        x = tf.matmul(adjacency, features[:, None, :, :])\n",
    "        # Apply linear transformation\n",
    "        x = tf.matmul(x, self.kernel)\n",
    "        if self.use_bias:\n",
    "            x += self.bias\n",
    "        # Reduce bond types dim\n",
    "        x_reduced = tf.reduce_sum(x, axis=1)\n",
    "        # Apply non-linear transformation\n",
    "        return self.activation(x_reduced)"
   ]
  },
  {
   "cell_type": "markdown",
   "id": "e6f24ab8",
   "metadata": {},
   "source": [
    "\n",
    "\n",
    "In this cell, we define the `get_encoder` function to construct the encoder part of a variational autoencoder (VAE) for processing molecular data, along with a custom layer called `Symmetrify`.\n",
    "\n",
    "1. **Encoder Construction (`get_encoder` function):**\n",
    "   - This function constructs the encoder part of a VAE, which transforms input molecular graphs into latent space representations.\n",
    "   - It accepts several parameters:\n",
    "     - `gconv_units`: List of units for graph convolutional layers.\n",
    "     - `latent_dim`: Dimensionality of the latent space.\n",
    "     - `adjacency_shape`: Shape of the adjacency matrix input.\n",
    "     - `feature_shape`: Shape of the feature matrix input.\n",
    "     - `dense_units`: List of units for densely connected layers.\n",
    "     - `dropout_rate`: Dropout rate for regularization.\n",
    "   - Inside the function, input layers for adjacency and feature matrices are defined using `tf.keras.layers.Input`.\n",
    "   - The feature matrix is propagated through multiple relational graph convolutional layers, specified by `gconv_units`, using the custom layer `RelationalGraphConvLayer`.\n",
    "   - The 2D representation of the molecule is then reduced to 1D using `tf.keras.layers.GlobalAveragePooling1D`.\n",
    "   - Next, the 1D representation passes through densely connected layers, specified by `dense_units`, with ReLU activation and dropout regularization.\n",
    "   - Finally, the mean (`z_mean`) and log variance (`log_var`) of the latent space are computed using dense layers, and an instance of the encoder model is created using `tf.keras.Model`.\n",
    "\n",
    "2. **Symmetrify Layer (`Symmetrify` class):**\n",
    "   - This custom layer implements symmetric matrix operations to ensure symmetry in adjacency matrices.\n",
    "   - The `call` method takes an input tensor and returns the symmetrized version of the tensor by averaging it with its transpose along the appropriate dimensions.\n",
    "\n",
    "By combining these components, we create an encoder model that transforms input molecular graphs into meaningful latent space representations while ensuring symmetry in the graph structure.\n",
    "\n"
   ]
  },
  {
   "cell_type": "code",
   "execution_count": 20,
   "id": "384786f7",
   "metadata": {},
   "outputs": [],
   "source": [
    "def get_encoder(gconv_units, latent_dim, adjacency_shape, feature_shape, dense_units,dropout_rate ):\n",
    "    '''\n",
    "    Reference: https://keras.io/examples/generative/wgan-graphs/\n",
    "    '''\n",
    "    adjacency = tf.keras.layers.Input(shape=adjacency_shape)\n",
    "    features = tf.keras.layers.Input(shape=feature_shape)\n",
    "\n",
    "    # Propagate through one or more graph convolutional layers\n",
    "    features_transformed = features\n",
    "    for units in gconv_units:\n",
    "        features_transformed = RelationalGraphConvLayer(units)(\n",
    "            [adjacency, features_transformed]\n",
    "        )\n",
    "    # Reduce 2-D representation of molecule to 1-D\n",
    "    x = tf.keras.layers.GlobalAveragePooling1D()(features_transformed)\n",
    "\n",
    "    # Propagate through one or more densely connected layers\n",
    "    for units in dense_units:\n",
    "        x = tf.keras.layers.Dense(units, activation=\"relu\")(x)\n",
    "        x = tf.keras.layers.Dropout(dropout_rate)(x)\n",
    "    \n",
    "    z_mean = tf.keras.layers.Dense(latent_dim, dtype=\"float32\", name=\"z_mean\")(x)\n",
    "    log_var = tf.keras.layers.Dense(latent_dim, dtype=\"float32\", name=\"log_var\")(x)\n",
    "    \n",
    "    encoder = tf.keras.Model([adjacency, features], [z_mean, log_var], name=\"encoder\")\n",
    "\n",
    "    return encoder\n",
    "\n",
    "class Symmetrify(tf.keras.layers.Layer):\n",
    "    def call(self, inputs):\n",
    "        return (inputs + tf.transpose(inputs, (0, 1, 3, 2))) / 2\n",
    "\n",
    "def get_decoder(dense_units, dropout_rate, latent_dim, adjacency_shape, feature_shape):\n",
    "    '''\n",
    "    Reference: https://keras.io/examples/generative/wgan-graphs/\n",
    "    '''\n",
    "    latent_inputs = tf.keras.Input(shape=(latent_dim,))\n",
    "\n",
    "    x = latent_inputs\n",
    "    for units in dense_units:\n",
    "        x = tf.keras.layers.Dense(units, activation=\"tanh\")(x)\n",
    "        x = tf.keras.layers.Dropout(dropout_rate)(x)\n",
    "\n",
    "    # Map outputs of previous layer (x) to [continuous] adjacency tensors (x_adjacency)\n",
    "    x_adjacency = tf.keras.layers.Dense(np.prod(adjacency_shape))(x)\n",
    "    x_adjacency = tf.keras.layers.Reshape(adjacency_shape)(x_adjacency)\n",
    "    # Symmetrify tensors in the last two dimensions\n",
    "    x_adjacency = Symmetrify()(x_adjacency)\n",
    "    x_adjacency = tf.keras.layers.Softmax(axis=1)(x_adjacency)\n",
    "\n",
    "    # Map outputs of previous layer (x) to [continuous] feature tensors (x_features)\n",
    "    x_features = tf.keras.layers.Dense(np.prod(feature_shape))(x)\n",
    "    x_features = tf.keras.layers.Reshape(feature_shape)(x_features)\n",
    "    x_features = tf.keras.layers.Softmax(axis=2)(x_features)\n",
    "\n",
    "    decoder = tf.keras.Model(latent_inputs, outputs=[x_adjacency, x_features], name=\"decoder\")\n",
    "\n",
    "    return decoder"
   ]
  },
  {
   "cell_type": "markdown",
   "id": "fbefea2e",
   "metadata": {},
   "source": [
    "\n",
    "\n",
    "In this cell, we define the `get_decoder` function to construct the decoder part of a variational autoencoder (VAE) for processing molecular data.\n",
    "\n",
    "1. **Decoder Construction (`get_decoder` function):**\n",
    "   - This function constructs the decoder part of a VAE, which generates molecular graphs from latent space representations.\n",
    "   - It accepts several parameters:\n",
    "     - `dense_units`: List of units for densely connected layers.\n",
    "     - `dropout_rate`: Dropout rate for regularization.\n",
    "     - `latent_dim`: Dimensionality of the latent space.\n",
    "     - `adjacency_shape`: Shape of the adjacency matrix input.\n",
    "     - `feature_shape`: Shape of the feature matrix input.\n",
    "   - Inside the function, an input layer for the latent space representations is defined using `tf.keras.Input`.\n",
    "   - The latent inputs pass through densely connected layers with hyperbolic tangent (`tanh`) activation and dropout regularization, specified by `dense_units` and `dropout_rate`.\n",
    "   - The outputs of the dense layers are mapped to continuous adjacency tensors (`x_adjacency`) and continuous feature tensors (`x_features`) using dense layers and reshaping operations.\n",
    "   - To ensure symmetry in the adjacency matrices, the `Symmetrify` layer is applied to `x_adjacency`.\n",
    "   - Softmax activation is applied along appropriate dimensions to ensure valid probability distributions for adjacency and feature tensors.\n",
    "   - Finally, an instance of the decoder model is created using `tf.keras.Model`.\n",
    "\n",
    "By using the `get_decoder` function, we create a decoder model that generates molecular graphs from latent space representations, completing the VAE architecture for molecular data processing.\n"
   ]
  },
  {
   "cell_type": "markdown",
   "id": "a27b3b8b",
   "metadata": {
    "id": "gYG3ufLmzlZW",
    "papermill": {
     "duration": 0.027726,
     "end_time": "2022-03-28T10:31:29.365452",
     "exception": false,
     "start_time": "2022-03-28T10:31:29.337726",
     "status": "completed"
    },
    "tags": []
   },
   "source": [
    "## Build Sampling layer"
   ]
  },
  {
   "cell_type": "markdown",
   "id": "d34d1a2a",
   "metadata": {},
   "source": [
    "[Slide Title: Code Explanation]\n",
    "\n",
    "[Slide Content: Sampling Layer Class]\n",
    "\n",
    "[Voice Over: Begins]\n",
    "\n",
    "In this cell, we define a custom layer called `Sampling`, which is used in variational autoencoders (VAEs) to sample latent space vectors.\n",
    "\n",
    "1. **Sampling Layer (`Sampling` class):**\n",
    "   - This custom layer implements the sampling process to generate latent space vectors from the mean (`z_mean`) and log variance (`z_log_var`) of the latent space distribution.\n",
    "   - The `call` method of the layer takes the mean and log variance as inputs.\n",
    "   - It first determines the shape of the input tensors to extract the batch size (`batch`) and dimensionality (`dim`) of the latent space.\n",
    "   - Next, it generates random noise (`epsilon`) from a standard normal distribution with the same shape as the input tensors.\n",
    "   - The sampled latent space vectors (`z`) are computed using the reparameterization trick, which involves adding the mean and multiplying by the standard deviation (square root of the exponential of half the log variance) of the latent space distribution.\n",
    "   - The sampled latent space vectors are returned as the output of the layer.\n",
    "\n",
    "By implementing the `Sampling` layer, we enable the VAE model to generate diverse latent space representations for input data, facilitating the generation of new molecular structures during training and inference.\n",
    "\n",
    "[Voice Over: Ends]\n",
    "\n",
    "---\n",
    "\n",
    "This explanation provides an overview of the `Sampling` layer class and its role in the VAE architecture for generating latent space representations. Let me know if you need further clarification or have any questions!"
   ]
  },
  {
   "cell_type": "code",
   "execution_count": 21,
   "id": "7f1623e9",
   "metadata": {},
   "outputs": [],
   "source": [
    "class Sampling(tf.keras.layers.Layer):\n",
    "    \"\"\"Uses (z_mean, z_log_var) to sample z, the vector encoding.\"\"\"\n",
    "\n",
    "    def call(self, inputs):\n",
    "        z_mean, z_log_var = inputs\n",
    "        batch = tf.shape(z_log_var)[0]\n",
    "        dim = tf.shape(z_log_var)[1]\n",
    "        epsilon = tf.keras.backend.random_normal(shape=(batch, dim))\n",
    "        return z_mean + tf.exp(0.5 * z_log_var) * epsilon"
   ]
  },
  {
   "cell_type": "markdown",
   "id": "bf196d9d",
   "metadata": {
    "id": "DRklbvcOzunX",
    "papermill": {
     "duration": 0.027638,
     "end_time": "2022-03-28T10:31:29.485618",
     "exception": false,
     "start_time": "2022-03-28T10:31:29.457980",
     "status": "completed"
    },
    "tags": []
   },
   "source": [
    "## Build the VAE\n"
   ]
  },
  {
   "cell_type": "markdown",
   "id": "bf97a4bc",
   "metadata": {},
   "source": [
    "In this class `MoleculeGenerator`, we integrate the variational autoencoder (VAE) architecture for molecular graph generation. Let's break down the functionalities of each component and its significance in the context of the VAE model.\n",
    "\n",
    "1. **Initialization (`__init__` method):**\n",
    "   - This method initializes the `MoleculeGenerator` instance by storing references to the encoder and decoder models, along with additional properties such as the maximum length of the molecule.\n",
    "   - It also initializes metric trackers (`train_total_loss_tracker` and `val_total_loss_tracker`) to monitor the training and validation losses over epochs.\n",
    "\n",
    "2. **Training Step (`train_step` method):**\n",
    "   - This method defines the training logic for the model.\n",
    "   - It receives input data containing molecular features and properties.\n",
    "   - Within a gradient tape context, it computes the reconstruction loss, KL divergence loss, property prediction loss, and graph loss.\n",
    "   - These losses are combined to calculate the total loss, which is optimized using gradient descent.\n",
    "   - The `train_total_loss_tracker` is updated with the calculated total loss.\n",
    "\n",
    "3. **Testing Step (`test_step` method):**\n",
    "   - Similar to the training step, this method defines the testing logic for the model.\n",
    "   - It calculates the loss metrics without gradient computation and optimization.\n",
    "   - The `val_total_loss_tracker` is updated with the calculated validation loss.\n",
    "\n",
    "4. **Loss Calculation (`calculate_loss` method):**\n",
    "   - This method computes the total loss based on various components, including KL divergence loss, property prediction loss, graph reconstruction losses (adjacency and features), and gradient penalty for enforcing the Lipschitz constraint.\n",
    "   - It ensures that the model learns to generate molecular graphs with desired properties while preserving the structure of the input data.\n",
    "\n",
    "5. **Gradient Penalty (`_gradient_penalty` method):**\n",
    "   - This method calculates the gradient penalty for enforcing the Lipschitz constraint, which encourages smoothness in the latent space.\n",
    "   - It computes the gradient norms of interpolated graphs and penalizes deviations from the Lipschitz constraint.\n",
    "   - By adding this penalty term to the loss function during training, the model learns more stable and continuous latent space representations.\n",
    "\n",
    "6. **Inference (`inference` method):**\n",
    "   - This method generates new molecular graphs by sampling latent space vectors and decoding them using the decoder model.\n",
    "   - It utilizes random noise vectors sampled from a standard normal distribution to generate diverse molecular structures.\n",
    "   - The generated molecular graphs are obtained by converting the one-hot encoded adjacency and feature tensors into molecule objects.\n",
    "\n",
    "7. **Call (`call` method):**\n",
    "   - This method defines the forward pass of the model.\n",
    "   - It computes the latent space representations (`z_mean`, `log_var`) using the encoder model.\n",
    "   - Latent space vectors are sampled using the `Sampling` layer, and then decoded into reconstructed adjacency and feature tensors using the decoder model.\n",
    "   - Additionally, the property prediction layer predicts molecular properties based on the latent space representations.\n",
    "   - The method returns various outputs including latent space representations, property predictions, and reconstructed graph tensors.\n",
    "\n",
    "Each method serves a specific purpose in the VAE model architecture, contributing to the overall process of generating molecular graphs while learning meaningful latent representations. These functionalities are essential for training and evaluating the model's performance in generating molecules with desired properties."
   ]
  },
  {
   "cell_type": "code",
   "execution_count": 22,
   "id": "3172cdbe",
   "metadata": {},
   "outputs": [],
   "source": [
    "class MoleculeGenerator(tf.keras.Model):\n",
    "    def __init__(self, encoder, decoder, max_len, **kwargs):\n",
    "        super().__init__(**kwargs)\n",
    "        self.encoder = encoder\n",
    "        self.decoder = decoder\n",
    "        self.property_prediction_layer = tf.keras.layers.Dense(1)\n",
    "        self.max_len = max_len\n",
    "\n",
    "        self.train_total_loss_tracker = tf.keras.metrics.Mean(name=\"train_total_loss\")\n",
    "        self.val_total_loss_tracker = tf.keras.metrics.Mean(name=\"val_total_loss\")\n",
    "        # self.train_total_loss_tracker = []\n",
    "        # self.val_total_loss_tracker = []\n",
    "    \n",
    "    def train_step(self, data):\n",
    "        \n",
    "        mol_features, mol_property = data\n",
    "        # print(mol_features, mol_property, data)\n",
    "        graph_real = mol_features\n",
    "        self.batch_size = tf.shape(mol_property)[0]\n",
    "        with tf.GradientTape() as tape:\n",
    "            z_mean, z_log_var, property_prediction, \\\n",
    "             reconstruction_adjacency, reconstruction_features = self(mol_features,\n",
    "                                                                             training=True)\n",
    "            graph_generated = [reconstruction_adjacency, reconstruction_features]\n",
    "            total_loss = self.calculate_loss(z_log_var,\n",
    "                                             z_mean,\n",
    "                                             mol_property,\n",
    "                                             property_prediction,\n",
    "                                             graph_real,\n",
    "                                             graph_generated,\n",
    "                                             is_train=True)\n",
    "\n",
    "        grads = tape.gradient(total_loss, self.trainable_weights)\n",
    "        self.optimizer.apply_gradients(zip(grads, self.trainable_weights))\n",
    "\n",
    "        self.train_total_loss_tracker.update_state(total_loss)\n",
    "        # self.train_total_loss_tracker.append(total_loss)\n",
    "        return {\n",
    "            \"train_loss\": self.train_total_loss_tracker.result()\n",
    "        }\n",
    "\n",
    "    def test_step(self, data):\n",
    "        mol_features, mol_property = data\n",
    "        z_mean, z_log_var, property_prediction, \\\n",
    "        reconstruction_adjacency, reconstruction_features = self(mol_features,\n",
    "                                                                training=False)\n",
    "        total_loss = self.calculate_loss(z_log_var,\n",
    "                                        z_mean,\n",
    "                                        mol_property, \n",
    "                                        property_prediction,\n",
    "                                        graph_real=mol_features,\n",
    "                                        graph_generated=[reconstruction_adjacency, \n",
    "                                                        reconstruction_features],\n",
    "                                        is_train=False)\n",
    "\n",
    "        self.val_total_loss_tracker.update_state(total_loss)\n",
    "        # self.val_total_loss_tracker.append(total_loss)\n",
    "        return {\n",
    "            \"val_loss\": self.val_total_loss_tracker.result()\n",
    "        }\n",
    "\n",
    "    def calculate_loss(self,\n",
    "                       z_log_var,\n",
    "                       z_mean,\n",
    "                       mol_property,\n",
    "                       property_prediction,\n",
    "                       graph_real,\n",
    "                       graph_generated,\n",
    "                       is_train):\n",
    "        adjacency_real, features_real = graph_real\n",
    "        adjacency_generated, features_generated = graph_generated\n",
    "        \n",
    "        adjacency_reconstruction_loss = tf.reduce_mean(\n",
    "                tf.reduce_sum(\n",
    "                    tf.keras.losses.categorical_crossentropy(\n",
    "                                                        adjacency_real,\n",
    "                                                        adjacency_generated\n",
    "                                                        ),\n",
    "                                                        axis=(1,2)\n",
    "                    )\n",
    "            )\n",
    "        features_reconstruction_loss = tf.reduce_mean(\n",
    "                tf.reduce_sum(\n",
    "                    tf.keras.losses.categorical_crossentropy(\n",
    "                                                        features_real,\n",
    "                                                        features_generated\n",
    "                                                        ),\n",
    "                                                        axis=(1)\n",
    "                    )\n",
    "            )\n",
    "        kl_loss = -0.5 * tf.reduce_sum(1 + z_log_var - tf.square(z_mean) - tf.exp(z_log_var), 1)\n",
    "        kl_loss = tf.reduce_mean(kl_loss)\n",
    "         \n",
    "    \n",
    "        property_prediction_loss = tf.reduce_mean(\n",
    "    tf.keras.losses.binary_crossentropy(tf.expand_dims(mol_property, axis = 1), property_prediction)\n",
    ")\n",
    "        \n",
    "        if is_train:\n",
    "            graph_loss = self._gradient_penalty(graph_real, graph_generated)\n",
    "        else:\n",
    "            graph_loss = 0\n",
    "\n",
    "        return kl_loss + property_prediction_loss + graph_loss + adjacency_reconstruction_loss + features_reconstruction_loss\n",
    "\n",
    "    def _gradient_penalty(self, graph_real, graph_generated):\n",
    "        # Unpack graphs\n",
    "        adjacency_real, features_real = graph_real\n",
    "        adjacency_generated, features_generated = graph_generated\n",
    "\n",
    "        # Generate interpolated graphs (adjacency_interp and features_interp)\n",
    "        alpha = tf.random.uniform([self.batch_size])\n",
    "        alpha = tf.reshape(alpha, (self.batch_size, 1, 1, 1))\n",
    "        alpha = tf.cast(alpha, tf.float32)\n",
    "        adjacency_real = tf.cast(adjacency_real, tf.float32)\n",
    "        adjacency_interp = (adjacency_real * alpha) + (1 - alpha) * adjacency_generated\n",
    "        alpha = tf.reshape(alpha, (self.batch_size, 1, 1))\n",
    "        alpha = tf.cast(alpha, tf.float32)\n",
    "        features_real = tf.cast(features_real, tf.float32)\n",
    "        features_interp = (features_real * alpha) + (1 - alpha) * features_generated\n",
    "\n",
    "        # Compute the logits of interpolated graphs\n",
    "        with tf.GradientTape() as tape:\n",
    "            tape.watch(adjacency_interp)\n",
    "            tape.watch(features_interp)\n",
    "            _, _, logits, _,_ = self(\n",
    "                [adjacency_interp, features_interp], training=True\n",
    "            )\n",
    "\n",
    "        # Compute the gradients with respect to the interpolated graphs\n",
    "        grads = tape.gradient(logits, [adjacency_interp, features_interp])\n",
    "        # Compute the gradient penalty\n",
    "        grads_adjacency_penalty = (1 - tf.norm(grads[0], axis=1)) ** 2\n",
    "        grads_features_penalty = (1 - tf.norm(grads[1], axis=2)) ** 2\n",
    "        return tf.reduce_mean(\n",
    "            tf.reduce_mean(grads_adjacency_penalty, axis=(-2, -1))\n",
    "            + tf.reduce_mean(grads_features_penalty, axis=(-1))\n",
    "        )\n",
    "    \n",
    "    def inference(self, batch_size):\n",
    "        z = tf.random.normal((batch_size, LATENT_DIM))\n",
    "        reconstruction_adjacency, reconstruction_features = self.decoder.predict(z)\n",
    "        # obtain one-hot encoded adjacency tensor\n",
    "        adjacency = tf.argmax(reconstruction_adjacency, axis=1)\n",
    "        adjacency = tf.one_hot(adjacency, depth=BOND_DIM, axis=1)\n",
    "        # Remove potential self-loops from adjacency\n",
    "        adjacency = tf.linalg.set_diag(adjacency, tf.zeros(tf.shape(adjacency)[:-1]))\n",
    "        # obtain one-hot encoded feature tensor\n",
    "        features = tf.argmax(reconstruction_features, axis=2)\n",
    "        features = tf.one_hot(features, depth=ATOM_DIM, axis=2)\n",
    "        return [\n",
    "            graph_to_molecule([adjacency[i].numpy(), features[i].numpy()])\n",
    "            for i in range(batch_size)\n",
    "        ]\n",
    "    \n",
    "    def call(self, inputs):\n",
    "        z_mean, log_var = self.encoder(inputs)\n",
    "        z = Sampling()([z_mean, log_var])\n",
    "\n",
    "        reconstruction_adjacency, reconstruction_features = self.decoder(z)\n",
    "\n",
    "        property_prediction = self.property_prediction_layer(z_mean)\n",
    "\n",
    "        return z_mean, log_var, property_prediction, reconstruction_adjacency, reconstruction_features"
   ]
  },
  {
   "cell_type": "markdown",
   "id": "559d66a9",
   "metadata": {},
   "source": [
    "Certainly! Let's delve deeper into the loss calculation process, the concept of gradient penalty, and its significance in training generative models like the variational autoencoder (VAE) for molecular graph generation:\n",
    "\n",
    "1. **Loss Calculation:**\n",
    "   - In the VAE framework, the loss function consists of multiple components that collectively guide the learning process:\n",
    "     - **KL Divergence Loss:** Measures the discrepancy between the distribution of latent space representations learned by the encoder and a predefined prior distribution (usually a standard normal distribution). Minimizing KL divergence encourages the learned latent space to follow a prior distribution, promoting better generalization and regularization.\n",
    "     - **Property Prediction Loss:** Measures the error in predicting molecular properties based on the latent space representations. This loss guides the model to learn representations that capture relevant information about the input data's properties, facilitating property-aware molecular graph generation.\n",
    "     - **Graph Reconstruction Losses (Adjacency and Features):** Quantify the difference between the input molecular graphs and their reconstructions generated by the decoder. These losses ensure that the generated molecular graphs faithfully preserve the structural and topological characteristics of the input data.\n",
    "   \n",
    "   The combination of these losses allows the VAE to simultaneously learn meaningful latent representations, predict molecular properties, and reconstruct input graphs, leading to the generation of high-quality molecular structures.\n",
    "\n",
    "2. **Gradient Penalty:**\n",
    "   - Gradient penalty is a regularization technique used to enforce smoothness and continuity in the latent space of generative models.\n",
    "   - In the context of the VAE for molecular graph generation, the gradient penalty aims to ensure that the model's latent space representations exhibit desirable properties, such as Lipschitz continuity.\n",
    "   - The gradient penalty is calculated based on the gradients of interpolated graphs (generated by linearly interpolating between real and generated graphs) with respect to their inputs (adjacency and feature tensors).\n",
    "   - By penalizing deviations from the Lipschitz constraint, the gradient penalty encourages the model to learn smooth and stable latent space representations, which in turn leads to better generalization and improved sample quality during generation.\n",
    "   \n",
    "   Essentially, the gradient penalty acts as a regularization term that promotes the formation of a smooth manifold in the latent space, preventing the model from learning overly complex or discontinuous representations.\n",
    "\n",
    "Overall, the combination of loss calculation and gradient penalty provides a comprehensive training framework for VAEs in molecular graph generation, guiding the model to learn meaningful latent representations while ensuring smoothness and continuity in the learned latent space."
   ]
  },
  {
   "cell_type": "markdown",
   "id": "fc80469e",
   "metadata": {
    "id": "TWT2Bceh5yn3",
    "papermill": {
     "duration": 0.027567,
     "end_time": "2022-03-28T10:31:29.625813",
     "exception": false,
     "start_time": "2022-03-28T10:31:29.598246",
     "status": "completed"
    },
    "tags": []
   },
   "source": [
    "## Train the model"
   ]
  },
  {
   "cell_type": "code",
   "execution_count": 23,
   "id": "e1abb1e3",
   "metadata": {
    "execution": {
     "iopub.execute_input": "2022-03-28T10:31:29.688047Z",
     "iopub.status.busy": "2022-03-28T10:31:29.687266Z",
     "iopub.status.idle": "2022-03-28T10:31:29.689628Z",
     "shell.execute_reply": "2022-03-28T10:31:29.689174Z",
     "shell.execute_reply.started": "2022-03-27T14:43:53.595292Z"
    },
    "id": "EiMF14LUDc32",
    "papermill": {
     "duration": 0.036225,
     "end_time": "2022-03-28T10:31:29.689736",
     "exception": false,
     "start_time": "2022-03-28T10:31:29.653511",
     "status": "completed"
    },
    "tags": []
   },
   "outputs": [],
   "source": [
    "train_loader = DataGenerator(\n",
    "    data=train_df[:10000],\n",
    "    mapping = SMILE_to_index, \n",
    "    max_len = NUM_ATOMS,\n",
    "    batch_size=BATCH_SIZE\n",
    ")\n",
    "\n",
    "validation_loader = DataGenerator(\n",
    "    data=test_df[:10000],\n",
    "    mapping = SMILE_to_index, \n",
    "    max_len = NUM_ATOMS,\n",
    "    batch_size=BATCH_SIZE\n",
    "    )"
   ]
  },
  {
   "cell_type": "markdown",
   "id": "43568610",
   "metadata": {},
   "source": [
    "This code snippet demonstrates the setup and training of a variational autoencoder (VAE) model for molecular graph generation. Let's break down each component and its role in the training process:\n",
    "\n",
    "1. **Optimizer Initialization:**\n",
    "   - An Adam optimizer is initialized with a specified learning rate (`VAE_LR`). Adam optimizer is commonly used for training neural networks due to its adaptive learning rate capabilities and efficiency in optimizing non-convex objectives.\n",
    "\n",
    "2. **Encoder and Decoder Initialization:**\n",
    "   - The `get_encoder` and `get_decoder` functions are used to initialize the encoder and decoder models, respectively.\n",
    "   - The encoder and decoder architectures are configured with specific parameters such as the number of graph convolutional layers (`gconv_units`), dense units, dropout rates, and input shapes.\n",
    "   - These models are essential components of the VAE architecture, responsible for encoding input molecular graphs into latent space representations and decoding them back into reconstructed graphs.\n",
    "\n",
    "3. **Model Initialization:**\n",
    "   - An instance of the `MoleculeGenerator` class is created by passing the initialized encoder and decoder models, along with the maximum molecule size (`MAX_MOLSIZE`).\n",
    "   - The `MoleculeGenerator` class encapsulates the entire VAE architecture and provides methods for training and inference.\n",
    "\n",
    "4. **Model Compilation:**\n",
    "   - The model is compiled using the Adam optimizer initialized earlier.\n",
    "   - Since the loss function and training step logic are defined within the `MoleculeGenerator` class, no explicit loss function is specified here.\n",
    "\n",
    "5. **Training:**\n",
    "   - The `fit` method is called on the model instance to train the VAE.\n",
    "   - Training is performed for a specified number of epochs (`epochs=10`) using data from the `train_loader`.\n",
    "   - Validation data from the `validation_loader` is provided for monitoring the model's performance during training.\n",
    "   - The training history, including loss and metrics values, is stored in the `history` variable for later analysis and visualization.\n",
    "\n",
    "Overall, this code sets up and trains a VAE model for molecular graph generation, leveraging the defined encoder and decoder architectures and the custom `MoleculeGenerator` class to facilitate the training process."
   ]
  },
  {
   "cell_type": "code",
   "execution_count": 24,
   "id": "042c5344",
   "metadata": {
    "execution": {
     "iopub.execute_input": "2022-03-28T10:31:29.751478Z",
     "iopub.status.busy": "2022-03-28T10:31:29.750872Z",
     "iopub.status.idle": "2022-03-28T10:37:50.067271Z",
     "shell.execute_reply": "2022-03-28T10:37:50.068000Z",
     "shell.execute_reply.started": "2022-03-27T14:45:51.335657Z"
    },
    "id": "K8UyJdg8HfxT",
    "outputId": "86225971-a04b-4a02-a3c3-eaab04cf191a",
    "papermill": {
     "duration": 380.350703,
     "end_time": "2022-03-28T10:37:50.068282",
     "exception": false,
     "start_time": "2022-03-28T10:31:29.717579",
     "status": "completed"
    },
    "tags": []
   },
   "outputs": [
    {
     "name": "stdout",
     "output_type": "stream",
     "text": [
      "WARNING:tensorflow:From c:\\Users\\LENOVO\\AppData\\Local\\Programs\\Python\\Python311\\Lib\\site-packages\\keras\\src\\backend\\tensorflow\\core.py:188: The name tf.placeholder is deprecated. Please use tf.compat.v1.placeholder instead.\n",
      "\n",
      "Epoch 1/10\n"
     ]
    },
    {
     "name": "stderr",
     "output_type": "stream",
     "text": [
      "c:\\Users\\LENOVO\\AppData\\Local\\Programs\\Python\\Python311\\Lib\\site-packages\\keras\\src\\trainers\\data_adapters\\py_dataset_adapter.py:120: UserWarning: Your `PyDataset` class should call `super().__init__(**kwargs)` in its constructor. `**kwargs` can include `workers`, `use_multiprocessing`, `max_queue_size`. Do not pass these arguments to `fit()`, as they will be ignored.\n",
      "  self._warn_if_super_not_called()\n"
     ]
    },
    {
     "name": "stdout",
     "output_type": "stream",
     "text": [
      "\u001b[1m18/24\u001b[0m \u001b[32m━━━━━━━━━━━━━━━\u001b[0m\u001b[37m━━━━━\u001b[0m \u001b[1m3s\u001b[0m 645ms/step - train_loss: 69603.1328"
     ]
    }
   ],
   "source": [
    "vae_optimizer = tf.keras.optimizers.Adam(\n",
    "    learning_rate=VAE_LR\n",
    ")\n",
    "\n",
    "encoder = get_encoder(\n",
    "    gconv_units=[9],\n",
    "    adjacency_shape=(BOND_DIM, NUM_ATOMS, NUM_ATOMS),\n",
    "    feature_shape=(NUM_ATOMS, ATOM_DIM),\n",
    "    latent_dim=LATENT_DIM,\n",
    "    dense_units=[512],\n",
    "    dropout_rate=0.0,\n",
    ")\n",
    "decoder = get_decoder(\n",
    "    dense_units=[128, 256, 512],\n",
    "    dropout_rate=0.2,\n",
    "    latent_dim=LATENT_DIM,\n",
    "    adjacency_shape=(BOND_DIM, NUM_ATOMS, NUM_ATOMS),\n",
    "    feature_shape=(NUM_ATOMS, ATOM_DIM)\n",
    ")\n",
    "\n",
    "model = MoleculeGenerator(encoder, \n",
    "                          decoder,\n",
    "                          MAX_MOLSIZE)\n",
    "\n",
    "model.compile(vae_optimizer)\n",
    "\n",
    "history = model.fit(train_loader,\n",
    "                    epochs=10,\n",
    "                    validation_data=validation_loader)"
   ]
  },
  {
   "cell_type": "code",
   "execution_count": 109,
   "id": "dc9f6319",
   "metadata": {
    "execution": {
     "iopub.execute_input": "2022-03-28T10:37:51.777271Z",
     "iopub.status.busy": "2022-03-28T10:37:51.774098Z",
     "iopub.status.idle": "2022-03-28T10:37:51.971728Z",
     "shell.execute_reply": "2022-03-28T10:37:51.972356Z",
     "shell.execute_reply.started": "2022-03-27T14:57:13.897611Z"
    },
    "id": "RaEQJCNB2Gjh",
    "outputId": "90670ff4-20f8-4593-be08-c4507409ac90",
    "papermill": {
     "duration": 1.053027,
     "end_time": "2022-03-28T10:37:51.972530",
     "exception": false,
     "start_time": "2022-03-28T10:37:50.919503",
     "status": "completed"
    },
    "tags": []
   },
   "outputs": [
    {
     "data": {
      "image/png": "[encoded data removed]",
      "text/plain": [
       "<Figure size 640x480 with 1 Axes>"
      ]
     },
     "metadata": {},
     "output_type": "display_data"
    }
   ],
   "source": [
    "plt.plot(history.history['train_total_loss'])\n",
    "plt.plot(history.history['val_val_total_loss'])\n",
    "plt.title('VAE Loss')\n",
    "plt.ylabel('Loss')\n",
    "plt.xlabel('epoch')\n",
    "plt.legend(['train', 'val'], loc='upper left')\n",
    "plt.show()"
   ]
  },
  {
   "cell_type": "markdown",
   "id": "fadc626f",
   "metadata": {
    "id": "f9VTrM04-hcP",
    "papermill": {
     "duration": 0.906848,
     "end_time": "2022-03-28T10:37:53.741451",
     "exception": false,
     "start_time": "2022-03-28T10:37:52.834603",
     "status": "completed"
    },
    "tags": []
   },
   "source": [
    "## Model Inferencing\n",
    "\n",
    "We would be inferring our model to predict over random latent space and try to generate 100 new valid molecules."
   ]
  },
  {
   "cell_type": "markdown",
   "id": "bee36ff6",
   "metadata": {
    "id": "hicuVsE6-o8c",
    "papermill": {
     "duration": 0.858124,
     "end_time": "2022-03-28T10:37:55.452351",
     "exception": false,
     "start_time": "2022-03-28T10:37:54.594227",
     "status": "completed"
    },
    "tags": []
   },
   "source": [
    "### Generate unique Molecules with the model"
   ]
  },
  {
   "cell_type": "code",
   "execution_count": 110,
   "id": "f80f424a",
   "metadata": {
    "execution": {
     "iopub.execute_input": "2022-03-28T10:37:57.165180Z",
     "iopub.status.busy": "2022-03-28T10:37:57.164361Z",
     "iopub.status.idle": "2022-03-28T10:38:03.280232Z",
     "shell.execute_reply": "2022-03-28T10:38:03.280654Z",
     "shell.execute_reply.started": "2022-03-27T14:57:14.121509Z"
    },
    "papermill": {
     "duration": 6.974075,
     "end_time": "2022-03-28T10:38:03.280802",
     "exception": false,
     "start_time": "2022-03-28T10:37:56.306727",
     "status": "completed"
    },
    "tags": []
   },
   "outputs": [
    {
     "name": "stdout",
     "output_type": "stream",
     "text": [
      "\u001b[1m32/32\u001b[0m \u001b[32m━━━━━━━━━━━━━━━━━━━━\u001b[0m\u001b[37m\u001b[0m \u001b[1m2s\u001b[0m 57ms/step\n"
     ]
    },
    {
     "name": "stderr",
     "output_type": "stream",
     "text": [
      "e:\\IITB\\SEM8\\ME793\\Drug Discovery\\Drug-Discovery\\.venv\\Lib\\site-packages\\rdkit\\Chem\\Draw\\IPythonConsole.py:258: UserWarning: Truncating the list of molecules to be displayed to 50. Change the maxMols value to display more.\n",
      "  warnings.warn(\n"
     ]
    },
    {
     "data": {
      "image/png": "[encoded data removed]",
      "text/plain": [
       "<IPython.core.display.Image object>"
      ]
     },
     "execution_count": 110,
     "metadata": {},
     "output_type": "execute_result"
    }
   ],
   "source": [
    "molecules = model.inference(1000)\n",
    "\n",
    "MolsToGridImage(\n",
    "    [m for m in molecules if m is not None][:1000], molsPerRow=5, subImgSize=(260, 160)\n",
    ")"
   ]
  },
  {
   "cell_type": "code",
   "execution_count": null,
   "id": "0c220d61",
   "metadata": {
    "id": "nqtGplkGvPST",
    "papermill": {
     "duration": 0.8466,
     "end_time": "2022-03-28T10:38:30.706812",
     "exception": false,
     "start_time": "2022-03-28T10:38:29.860212",
     "status": "completed"
    },
    "tags": []
   },
   "outputs": [],
   "source": []
  }
 ],
 "metadata": {
  "kernelspec": {
   "display_name": "Python 3",
   "language": "python",
   "name": "python3"
  },
  "language_info": {
   "codemirror_mode": {
    "name": "ipython",
    "version": 3
   },
   "file_extension": ".py",
   "mimetype": "text/x-python",
   "name": "python",
   "nbconvert_exporter": "python",
   "pygments_lexer": "ipython3",
   "version": "3.11.2"
  },
  "papermill": {
   "default_parameters": {},
   "duration": 451.695384,
   "end_time": "2022-03-28T10:38:34.884667",
   "environment_variables": {},
   "exception": null,
   "input_path": "__notebook__.ipynb",
   "output_path": "__notebook__.ipynb",
   "parameters": {},
   "start_time": "2022-03-28T10:31:03.189283",
   "version": "2.3.3"
  }
 },
 "nbformat": 4,
 "nbformat_minor": 5
}
